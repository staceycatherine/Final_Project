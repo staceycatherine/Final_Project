{
 "cells": [
  {
   "cell_type": "code",
   "execution_count": null,
   "id": "95807937",
   "metadata": {},
   "outputs": [],
   "source": [
    "# Import dependencies\n",
    "import pandas as pd\n",
    "import os\n",
    "from sklearn.model_selection import train_test_split\n",
    "from sklearn.preprocessing import StandardScaler,OneHotEncoder\n",
    "from sklearn.linear_model import Ridge"
   ]
  },
  {
   "cell_type": "code",
   "execution_count": null,
   "id": "68a3cc36",
   "metadata": {},
   "outputs": [],
   "source": [
    "# Import and read data\n",
    "combined_df = getfromdatabase{postres}"
   ]
  },
  {
   "cell_type": "code",
   "execution_count": null,
   "id": "eb841f46",
   "metadata": {},
   "outputs": [],
   "source": [
    "# Drop non-helpful columns(if there are any)\n",
    "combined_df.drop(columns=['columnname1', 'columnname2'], axis=1, inplace=True)\n",
    "combined_df.head()"
   ]
  },
  {
   "cell_type": "code",
   "execution_count": null,
   "id": "34a23f98",
   "metadata": {},
   "outputs": [],
   "source": [
    "# Look at value counts for binning if needed\n",
    "column_count= combined_df.column name.value_counts()\n",
    "column_count"
   ]
  },
  {
   "cell_type": "code",
   "execution_count": null,
   "id": "ee3e01e3",
   "metadata": {},
   "outputs": [],
   "source": [
    "# Visualize the value count of column_count to identify which values to replace if needed\n",
    "column_counts.plot.density()"
   ]
  },
  {
   "cell_type": "code",
   "execution_count": null,
   "id": "f8612e23",
   "metadata": {},
   "outputs": [],
   "source": [
    "# determine which values to replace if counts are less than amount determined by plot above if needed\n",
    "# Determine which values to replace if counts are less than ...?\n",
    "replace_column = list(column_count[column_count < 500].index)\n",
    "\n",
    "# Replace in dataframe\n",
    "for app in replace_column:\n",
    "    application_df.column name = application_df.column name.replace(app,\"Other\")\n",
    "    \n",
    "# Check to make sure binning was successful\n",
    "combined_df.column name.value_counts()"
   ]
  },
  {
   "cell_type": "code",
   "execution_count": null,
   "id": "38e15130",
   "metadata": {},
   "outputs": [],
   "source": [
    "# generate categorical variable lists to encode the text\n",
    "combined_cat = combined_df.dtypes[combined_df.dtypes == 'object'].index.tolist()\n",
    "combined_cat"
   ]
  },
  {
   "cell_type": "code",
   "execution_count": null,
   "id": "2f7afd5c",
   "metadata": {},
   "outputs": [],
   "source": [
    "# Create a OneHotEncoder instance\n",
    "enc = OneHotEncoder(sparse=False)\n",
    "\n",
    "# Fit and transform the OneHotEncoder using the categorical variable list\n",
    "encode_df = pd.DataFrame(enc.fit_transform(combined_df[combined_cat]))\n",
    "\n",
    "# Add the encoded variable names to the dataframe\n",
    "encode_df.columns = enc.get_feature_names(combined_cat)\n",
    "encode_df.head()"
   ]
  },
  {
   "cell_type": "code",
   "execution_count": null,
   "id": "e9b8a506",
   "metadata": {},
   "outputs": [],
   "source": [
    "# Merge one-hot encoded features and drop the originals\n",
    "combined_df = combined_df.merge(encode_df, left_index=True, right_index=True)\n",
    "combined_df = combined df.drop(columns = combined_cat)\n",
    "combined_df = combineddf.drop(columns=[\"column name\"])\n",
    "combined_df.head()"
   ]
  },
  {
   "cell_type": "code",
   "execution_count": null,
   "id": "d551c242",
   "metadata": {},
   "outputs": [],
   "source": [
    "# Split into features and target arrays\n",
    "y = combined_df['target column name'].values\n",
    "X = combined_df.drop(['target column name'],1).values\n",
    "\n",
    "# Split preprocessed data into a training and testing dataset\n",
    "X_train, X_test, y_train, y_test = train_test_split( X, y, random_state=42)"
   ]
  },
  {
   "cell_type": "code",
   "execution_count": null,
   "id": "80b5f3fd",
   "metadata": {},
   "outputs": [],
   "source": [
    "# Create a StandardScaler instance\n",
    "scaler = StandardScaler()\n",
    "\n",
    "# Fit the StandardScaler\n",
    "X_scaler = scaler.fit(X_train)\n",
    "\n",
    "# Scale the data\n",
    "X_train_scaled = X_scaler.transform(X_train)\n",
    "X_test_scaled = X_scaler.transform(X_test)"
   ]
  },
  {
   "cell_type": "code",
   "execution_count": null,
   "id": "7a16691a",
   "metadata": {},
   "outputs": [],
   "source": [
    "ridge = Ridge()\n",
    "ridge.fit(x_train, y_train)\n",
    "y_pred_ridge = ridge.predict(x_test)\n",
    "mse = mean_squared_error(y_test, y_pred_ridge)\n",
    "print(mse)"
   ]
  }
 ],
 "metadata": {
  "kernelspec": {
   "display_name": "mlenv",
   "language": "python",
   "name": "mlenv"
  },
  "language_info": {
   "codemirror_mode": {
    "name": "ipython",
    "version": 3
   },
   "file_extension": ".py",
   "mimetype": "text/x-python",
   "name": "python",
   "nbconvert_exporter": "python",
   "pygments_lexer": "ipython3",
   "version": "3.7.11"
  }
 },
 "nbformat": 4,
 "nbformat_minor": 5
}
