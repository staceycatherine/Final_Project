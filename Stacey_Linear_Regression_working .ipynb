{
 "cells": [
  {
   "cell_type": "code",
   "execution_count": 1,
   "id": "95807937",
   "metadata": {},
   "outputs": [
    {
     "ename": "ModuleNotFoundError",
     "evalue": "No module named 'config'",
     "output_type": "error",
     "traceback": [
      "\u001b[1;31m---------------------------------------------------------------------------\u001b[0m",
      "\u001b[1;31mModuleNotFoundError\u001b[0m                       Traceback (most recent call last)",
      "\u001b[1;32m<ipython-input-1-994ed9fe3308>\u001b[0m in \u001b[0;36m<module>\u001b[1;34m\u001b[0m\n\u001b[0;32m     15\u001b[0m \u001b[1;32mfrom\u001b[0m \u001b[0msqlalchemy\u001b[0m\u001b[1;33m.\u001b[0m\u001b[0morm\u001b[0m \u001b[1;32mimport\u001b[0m \u001b[0mSession\u001b[0m\u001b[1;33m\u001b[0m\u001b[1;33m\u001b[0m\u001b[0m\n\u001b[0;32m     16\u001b[0m \u001b[1;32mfrom\u001b[0m \u001b[0msqlalchemy\u001b[0m \u001b[1;32mimport\u001b[0m \u001b[0mcreate_engine\u001b[0m\u001b[1;33m\u001b[0m\u001b[1;33m\u001b[0m\u001b[0m\n\u001b[1;32m---> 17\u001b[1;33m \u001b[1;32mfrom\u001b[0m \u001b[0mconfig\u001b[0m \u001b[1;32mimport\u001b[0m \u001b[0mpw_postgres\u001b[0m\u001b[1;33m\u001b[0m\u001b[1;33m\u001b[0m\u001b[0m\n\u001b[0m",
      "\u001b[1;31mModuleNotFoundError\u001b[0m: No module named 'config'"
     ]
    }
   ],
   "source": [
    "# Import dependencies\n",
    "import pandas as pd\n",
    "import os\n",
    "import numpy as np\n",
    "from sklearn.model_selection import train_test_split\n",
    "from sklearn.preprocessing import StandardScaler,OneHotEncoder\n",
    "from sklearn.linear_model import LinearRegression\n",
    "from sklearn.linear_model import Lasso\n",
    "from sklearn.linear_model import Ridge\n",
    "from sklearn.metrics import r2_score\n",
    "from sklearn.metrics import mean_squared_error\n",
    "from sklearn.ensemble import RandomForestRegressor\n",
    "import matplotlib.pyplot as plt\n",
    "#from tensorflow.keras.callbacks import ModelCheckpoint\n",
    "from sqlalchemy.orm import Session\n",
    "from sqlalchemy import create_engine\n",
    "from config import pw_postgres"
   ]
  },
  {
   "cell_type": "code",
   "execution_count": null,
   "id": "68a3cc36",
   "metadata": {},
   "outputs": [],
   "source": [
    "# Import and read data\n",
    "\n",
    "DB_PASS = pw_postgres\n",
    "aws_database = 'shrbfk-final-project.cuitpsvagrne.us-east-2.rds.amazonaws.com:5432'\n",
    "db_string = \"postgresql+psycopg2://postgres:\" + DB_PASS + \"@\" + aws_database + \"/vet_data\"\n",
    "try:\n",
    "    db_engine = create_engine(db_string)\n",
    "    \n",
    "except Exception as e:\n",
    "    print(f\"\\nFailed to create database connection to {aws_database}.\\n\", e)\n",
    "    exit()\n",
    "    \n",
    "combined_df = pd.read_sql_table('people_vet_join', db_engine)"
   ]
  },
  {
   "cell_type": "code",
   "execution_count": null,
   "id": "676736c6",
   "metadata": {},
   "outputs": [],
   "source": [
    "combined_df.head()"
   ]
  },
  {
   "cell_type": "code",
   "execution_count": null,
   "id": "9e58a543",
   "metadata": {},
   "outputs": [],
   "source": [
    "df_labels = combined_df[['State', 'County']]\n",
    "combined_df = combined_df.drop(columns=['FIPS', 'State', 'County'])\n",
    "#combined_df = combined_df.drop"
   ]
  },
  {
   "cell_type": "code",
   "execution_count": null,
   "id": "106083ef",
   "metadata": {},
   "outputs": [],
   "source": [
    "combined_df = combined_df.drop([0,68,102,118,194,253,318,331,333,401,561,567,612,715,808,908,1014,\n",
    "               1135,1200,1217,1242,1257,1341,1429,1512,1628,1685,1779,1797,1808,1830,\n",
    "               1864,1927,2028,2082,2171,2249,2286,2354,2360,2407,2474,2570,2825,\n",
    "               2855,2870,3005,3045,3101,3174])"
   ]
  },
  {
   "cell_type": "code",
   "execution_count": null,
   "id": "eb841f46",
   "metadata": {},
   "outputs": [],
   "source": [
    "# Drop non-helpful columns(if there are any)\n",
    "#combined_df.drop(columns=['columnname1', 'columnname2'], axis=1, inplace=True)\n",
    "combined_df.head()"
   ]
  },
  {
   "cell_type": "code",
   "execution_count": null,
   "id": "aaac77c4",
   "metadata": {},
   "outputs": [],
   "source": [
    "combined_df.dropna(inplace=True)"
   ]
  },
  {
   "cell_type": "code",
   "execution_count": null,
   "id": "d551c242",
   "metadata": {},
   "outputs": [],
   "source": [
    "# Split into features and target arrays\n",
    "y = combined_df['TotalVets'].values\n",
    "X = combined_df.drop(['TotalVets'],1).values"
   ]
  },
  {
   "cell_type": "code",
   "execution_count": null,
   "id": "9cb894aa",
   "metadata": {},
   "outputs": [],
   "source": [
    "# Split preprocessed data into a training and testing dataset\n",
    "X_train, X_test, y_train, y_test = train_test_split( X, y, random_state=42)"
   ]
  },
  {
   "cell_type": "code",
   "execution_count": null,
   "id": "80b5f3fd",
   "metadata": {},
   "outputs": [],
   "source": [
    "# Create a StandardScaler instance\n",
    "scaler = StandardScaler()\n",
    "\n",
    "# Fit the StandardScaler\n",
    "X_scaler = scaler.fit(X_train)\n",
    "\n",
    "# Scale the data\n",
    "X_train_scaled = X_scaler.transform(X_train)\n",
    "X_test_scaled = X_scaler.transform(X_test)"
   ]
  },
  {
   "cell_type": "code",
   "execution_count": null,
   "id": "49b80c12",
   "metadata": {},
   "outputs": [],
   "source": [
    "X_train_scaled"
   ]
  },
  {
   "cell_type": "code",
   "execution_count": null,
   "id": "6bb27fab",
   "metadata": {},
   "outputs": [],
   "source": [
    "# Fit the model\n",
    "lin_reg = LinearRegression()\n",
    "lin_reg.fit(X_train_scaled, y_train)\n",
    "lin_reg_y_pred = lin_reg.predict(X_test_scaled)\n",
    "mse = mean_squared_error(y_test, lin_reg_y_pred)\n",
    "rmse = np.sqrt(mse)\n",
    "print(rmse)\n",
    "#print(mse)"
   ]
  },
  {
   "cell_type": "code",
   "execution_count": null,
   "id": "455d1a37",
   "metadata": {},
   "outputs": [],
   "source": [
    "r2_score(y_test, lin_reg_y_pred)"
   ]
  },
  {
   "cell_type": "code",
   "execution_count": null,
   "id": "2af40ea2",
   "metadata": {},
   "outputs": [],
   "source": [
    "plt.hist(y, 10, range=[0,15000])\n",
    "plt.show()"
   ]
  },
  {
   "cell_type": "code",
   "execution_count": null,
   "id": "b7290f45",
   "metadata": {},
   "outputs": [],
   "source": [
    "#STOP HERE "
   ]
  },
  {
   "cell_type": "code",
   "execution_count": null,
   "id": "f8e7d5dd",
   "metadata": {},
   "outputs": [],
   "source": [
    "#y_test"
   ]
  },
  {
   "cell_type": "code",
   "execution_count": null,
   "id": "58907e7e",
   "metadata": {},
   "outputs": [],
   "source": [
    "#y"
   ]
  },
  {
   "cell_type": "code",
   "execution_count": null,
   "id": "5a1df8a8",
   "metadata": {},
   "outputs": [],
   "source": [
    "# Fitting Random Forest Regression to the dataset\n",
    "#regressor = RandomForestRegressor(n_estimators = 10, random_state = 0)\n",
    "#regressor.fit(X.reshape(-1,1), y.reshape(-1, 1))"
   ]
  },
  {
   "cell_type": "code",
   "execution_count": null,
   "id": "26bf3ced",
   "metadata": {},
   "outputs": [],
   "source": [
    "#ridge = Ridge()\n",
    "#ridge.fit(X_train, y_train)\n",
    "#y_pred_ridge = ridge.predict(X_test)\n",
    "#mse = mean_squared_error(y_test, y_pred_ridge)\n",
    "#rmse = np.sqrt(mse)\n",
    "#print(rmse)"
   ]
  },
  {
   "cell_type": "code",
   "execution_count": null,
   "id": "b6962811",
   "metadata": {},
   "outputs": [],
   "source": [
    "#lasso = Lasso()\n",
    "#lasso.fit(X_train, y_train)\n",
    "#y_pred_lasso = lasso.predict(X_test)\n",
    "#mse = mean_squared_error(y_test, y_pred_lasso)\n",
    "#print(mse)"
   ]
  },
  {
   "cell_type": "code",
   "execution_count": null,
   "id": "7a16691a",
   "metadata": {},
   "outputs": [],
   "source": []
  }
 ],
 "metadata": {
  "kernelspec": {
   "display_name": "mlenv",
   "language": "python",
   "name": "mlenv"
  },
  "language_info": {
   "codemirror_mode": {
    "name": "ipython",
    "version": 3
   },
   "file_extension": ".py",
   "mimetype": "text/x-python",
   "name": "python",
   "nbconvert_exporter": "python",
   "pygments_lexer": "ipython3",
   "version": "3.7.10"
  }
 },
 "nbformat": 4,
 "nbformat_minor": 5
}
