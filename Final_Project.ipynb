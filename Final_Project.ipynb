{
 "cells": [
  {
   "cell_type": "markdown",
   "id": "fa31ba4c",
   "metadata": {},
   "source": [
    "# Module 20 - Final Project\n",
    "\n",
    "## Authors:          Stacey Hart, Ron Bingham, Fritz Knack\n",
    "\n",
    "Umbrella notebook that runs all the models. Comment out any you don't want executed.\n"
   ]
  },
  {
   "cell_type": "markdown",
   "id": "ab56d0aa",
   "metadata": {},
   "source": [
    "## Dependencies\n",
    "\n",
    "Common dependencies and those needed for each of the models contained in this notebook.\n",
    "\n",
    "**Note**: Some models have parameters (e.g., deep layers in the Neural Networks model) that can be configured in the cells that follow.\n"
   ]
  },
  {
   "cell_type": "code",
   "execution_count": 1,
   "id": "8fb4d2ed",
   "metadata": {},
   "outputs": [],
   "source": [
    "# **************************************\n",
    "# Common\n",
    "# **************************************\n",
    "import pandas as pd\n",
    "import os\n",
    "from sklearn.model_selection import train_test_split\n",
    "from sklearn.preprocessing import StandardScaler,OneHotEncoder\n",
    "from sqlalchemy.orm import Session\n",
    "from sqlalchemy import create_engine\n",
    "import numpy as np\n",
    "import matplotlib.pyplot as plt\n",
    "import re\n",
    "from sklearn.metrics import mean_squared_error, r2_score\n",
    "\n",
    "from utils_common import get_db_engine, encode_dataframe\n",
    "\n",
    "# Suppresses the GPU-related warning messages that TensorFlow produces\n",
    "import warnings\n",
    "warnings.filterwarnings('ignore')\n",
    "\n",
    "# **************************************\n",
    "# keras.models.Sequential()\n",
    "# See Neural Net Configuration Variables below\n",
    "# **************************************\n",
    "import tensorflow as tf\n",
    "from tensorflow.keras.callbacks import ModelCheckpoint # keras, not kera\n",
    "\n",
    "# **************************************\n",
    "# sklearn.linear_model - LinearRegression\n",
    "# No configuration variables, just run it.\n",
    "# **************************************\n",
    "from sklearn.linear_model import LinearRegression\n",
    "\n",
    "# **************************************\n",
    "# sklearn.linear_model - Lasso\n",
    "# No configuration variables, just run it.\n",
    "# **************************************\n",
    "from sklearn.linear_model import Lasso\n",
    "\n",
    "# **************************************\n",
    "# sklearn.linear_model - Ridge\n",
    "# No configuration variables, just run it.\n",
    "# **************************************\n",
    "from sklearn.linear_model import Ridge\n",
    "\n",
    "# **************************************\n",
    "# sklearn.ensemble - RandomForestRegressor\n",
    "# See Random Forest Configuration Variables below\n",
    "# **************************************\n",
    "from sklearn.ensemble import RandomForestRegressor\n"
   ]
  },
  {
   "cell_type": "markdown",
   "id": "b857011f",
   "metadata": {},
   "source": [
    "## Configuration Variables"
   ]
  },
  {
   "cell_type": "markdown",
   "id": "f1599db1",
   "metadata": {},
   "source": [
    "### Configuration: Common"
   ]
  },
  {
   "cell_type": "code",
   "execution_count": 2,
   "id": "10942832",
   "metadata": {},
   "outputs": [],
   "source": [
    "# **************************************\n",
    "# Common Configuration Variables\n",
    "# **************************************\n",
    "int_random_state = 0\n",
    "y_column = 'TotalVets'"
   ]
  },
  {
   "cell_type": "markdown",
   "id": "b2946394",
   "metadata": {},
   "source": [
    "### Configuration: Neural Network"
   ]
  },
  {
   "cell_type": "code",
   "execution_count": 3,
   "id": "252652b8",
   "metadata": {},
   "outputs": [],
   "source": [
    "# **************************************\n",
    "# Neural Net Configuration Variables\n",
    "# **************************************\n",
    "\n",
    "# ******************\n",
    "# Data Configuration\n",
    "tablename = 'people_vet_join'\n",
    "y_column = 'TotalVets'\n",
    "\n",
    "# ******************\n",
    "# First Layer Configuration\n",
    "kS_nn_first_units       = 8\n",
    "kS_nn_first_activation  = \"relu\"\n",
    "\n",
    "# ******************\n",
    "# Output Layer Configuration\n",
    "kS_nn_output_units      = 1\n",
    "kS_nn_output_activation = \"sigmoid\"\n",
    "\n",
    "# ******************\n",
    "# Deep Learning Configuration\n",
    "kS_nn_deep_layers       = [\n",
    "    # Comment out the next two lines to disable \"deep learning\"\n",
    "    {\"units\": 16,\n",
    "     \"activation\": \"relu\"},\n",
    "\n",
    "    # Add more layers with\n",
    "    #    {\"units\": <units>,\n",
    "    #     \"activation\": <activation>},\n",
    "                     ]\n",
    "\n",
    "# ******************\n",
    "# Compiler Configuration\n",
    "kS_nn_compile_loss      = \"binary_crossentropy\"\n",
    "kS_nn_compile_optimizer = \"adam\"\n",
    "kS_nn_compile_metrics   = [\"accuracy\"]\n",
    "\n",
    "# ******************\n",
    "# Training Configuration\n",
    "kS_nn_train_epochs      = 100\n",
    "\n",
    "# ******************\n",
    "# Output File\n",
    "kS_nn_file              = \"kS-Enlistment_Prediction.h5\""
   ]
  },
  {
   "cell_type": "markdown",
   "id": "d004d842",
   "metadata": {},
   "source": [
    "### Configuration: Random Forest"
   ]
  },
  {
   "cell_type": "code",
   "execution_count": 4,
   "id": "3a70f5f8",
   "metadata": {},
   "outputs": [],
   "source": [
    "# **************************************\n",
    "# Random Forest Configuration Variables\n",
    "# **************************************\n",
    "rf_estimators = 10"
   ]
  },
  {
   "cell_type": "markdown",
   "id": "440b704d",
   "metadata": {},
   "source": [
    "## Database Connection"
   ]
  },
  {
   "cell_type": "code",
   "execution_count": 5,
   "id": "fc03175c",
   "metadata": {},
   "outputs": [],
   "source": [
    "try:\n",
    "    db_engine = get_db_engine()\n",
    "except Exception as e:\n",
    "    print(f\"\\nFailed to connect to database engine.\\n\", e)\n",
    "\n",
    "try:\n",
    "    combined_df = pd.read_sql_table(tablename, db_engine)\n",
    "except Exception as e:\n",
    "    print(f\"\\nFailed to read table {tablename} on db_engine {db_engine}.\\n\", e)"
   ]
  },
  {
   "cell_type": "markdown",
   "id": "382f3878",
   "metadata": {},
   "source": [
    "## Data Conditioning"
   ]
  },
  {
   "cell_type": "code",
   "execution_count": 6,
   "id": "96765300",
   "metadata": {},
   "outputs": [],
   "source": [
    "# Placeholder\n",
    "# Data scrubbing currently takes place before this notebook is used.\n",
    "# (Temp comment: If I can get the cleanup notebooks nicely consolidated and \n",
    "# wrapped, I'll put 'em right here.)\n"
   ]
  },
  {
   "cell_type": "markdown",
   "id": "04567f5d",
   "metadata": {},
   "source": [
    "## Model Preparation"
   ]
  },
  {
   "cell_type": "code",
   "execution_count": 7,
   "id": "629046af",
   "metadata": {},
   "outputs": [],
   "source": [
    "# ******************\n",
    "# Preserve State and County for labeling things later. Drop State and County\n",
    "# from the model to be processed.\n",
    "try:\n",
    "    df_labels = combined_df[['State', 'County']]\n",
    "    combined_df = combined_df.drop(columns=['State', 'County'])\n",
    "except Exception as e:\n",
    "    print(f\"\\nImported data appears to be missing State and County label columns.\\n\", e)\n",
    "    exit()\n",
    "\n",
    "# # ******************\n",
    "# # Pull off geodata, not needed for the model\n",
    "# try:\n",
    "#     combined_df = combined_df.drop(columns=['State', 'County'])\n",
    "# except Exception as e:\n",
    "#     print(f\"\\nImported data appears to be missing State and County label columns.\\n\", e)\n",
    "#     exit()\n",
    "\n",
    "\n",
    "# ******************\n",
    "# Pull off FIPS, too, but it might have already been cleaned up. No reason to\n",
    "# die here if it has.\n",
    "try:\n",
    "    combined_df = combined_df.drop(columns=['FIPS'])\n",
    "except:\n",
    "    pass\n",
    "\n",
    "# ******************\n",
    "# Split into features and target arrays\n",
    "try:\n",
    "    y = combined_df[y_column].values\n",
    "    X = combined_df.drop([y_column],1).values\n",
    "except Exception as e:\n",
    "    print(f\"\\nFailed extracting {y_column} as target array.\\n\", e)\n",
    "    exit()\n",
    "\n",
    "# ******************\n",
    "# Split preprocessed data into a training and testing dataset\n",
    "try:\n",
    "    X_train, X_test, y_train, y_test = train_test_split( X, y, random_state=int_random_state)\n",
    "except Exception as e:\n",
    "    print(f\"\\nFailed splitting test/train data.\\n\", e)\n",
    "    exit()\n",
    "    \n",
    "# ******************\n",
    "# Scale the data\n",
    "try:\n",
    "    scaler = StandardScaler()\n",
    "    X_scaler = scaler.fit(X_train)\n",
    "    X_train_scaled = X_scaler.transform(X_train)\n",
    "    X_test_scaled = X_scaler.transform(X_test)\n",
    "except Exception as e:\n",
    "    print(f\"\\nFailed scaling data.\\n\", e)\n",
    "    exit()\n"
   ]
  },
  {
   "cell_type": "markdown",
   "id": "7de7880c",
   "metadata": {},
   "source": [
    "## Models"
   ]
  },
  {
   "cell_type": "markdown",
   "id": "de2386a8",
   "metadata": {},
   "source": [
    "### Model: Neural Network - Sequential"
   ]
  },
  {
   "cell_type": "code",
   "execution_count": 8,
   "id": "ec329863",
   "metadata": {},
   "outputs": [],
   "source": [
    "def run_model_sequential():\n",
    "\n",
    "    # Define the model\n",
    "    number_input_features = len(X_train_scaled[0])\n",
    "\n",
    "    nn = tf.keras.models.Sequential()\n",
    "\n",
    "    # First hidden layer\n",
    "    nn.add(tf.keras.layers.Dense(units=kS_nn_first_units,\n",
    "                input_dim=number_input_features,\n",
    "                activation=kS_nn_first_activation))\n",
    "\n",
    "    # Additional hidden layers\n",
    "    for layer in kS_nn_deep_layers:\n",
    "        nn.add(tf.keras.layers.Dense(units=layer['units'],\n",
    "                                     activation=layer['activation']))\n",
    "\n",
    "    # Output layer\n",
    "    nn.add(tf.keras.layers.Dense(units=kS_nn_output_units, activation=kS_nn_output_activation))\n",
    "\n",
    "    # Check the structure of the model\n",
    "    print(nn.summary())\n",
    "\n",
    "    # Compile the model\n",
    "    nn.compile(loss=kS_nn_compile_loss, optimizer=kS_nn_compile_optimizer, metrics=kS_nn_compile_metrics)\n",
    "\n",
    "    # Train the model\n",
    "    fit_model = nn.fit(X_train_scaled, y_train,epochs=kS_nn_train_epochs)\n",
    "\n",
    "    # Evaluate the model using the test data\n",
    "    model_loss, model_accuracy = nn.evaluate(X_test_scaled,y_test,verbose=2)\n",
    "    print(f\"Loss: {model_loss}, Accuracy: {model_accuracy}\")\n",
    "\n",
    "    nn.save(kS_nn_file)\n",
    "\n",
    "# end run_model_sequential()\n",
    "# **************************************"
   ]
  },
  {
   "cell_type": "markdown",
   "id": "fa8f06c9",
   "metadata": {},
   "source": [
    "### Model: Linear Regression"
   ]
  },
  {
   "cell_type": "code",
   "execution_count": 9,
   "id": "bfde9fa2",
   "metadata": {},
   "outputs": [],
   "source": [
    "# Placeholder\n",
    "def run_model_linear_regression():\n",
    "    lin_reg = LinearRegression()\n",
    "    lin_reg.fit(X_train_scaled, y_train)\n",
    "    lin_reg_y_pred = lin_reg.predict(X_test_scaled)\n",
    "    mse = mean_squared_error(y_test, lin_reg_y_pred)\n",
    "    rmse = np.sqrt(mse)\n",
    "    print(\"Linear Regression: \", rmse)\n",
    "    # predicting the accuracy score\n",
    "    score = r2_score(y_test, lin_reg_y_pred)\n",
    "    print('r2 score is ',score)\n",
    "    print('mean_sqrd_error is==',mean_squared_error(y_test,lin_reg_y_pred))\n",
    "    print('root_mean_squared error of is==',np.sqrt(mean_squared_error(y_test,lin_reg_y_pred)))\n",
    "\n",
    "# end run_model_sequential()\n",
    "# **************************************"
   ]
  },
  {
   "cell_type": "markdown",
   "id": "3e15f72f",
   "metadata": {},
   "source": [
    "### Model: Lasso"
   ]
  },
  {
   "cell_type": "code",
   "execution_count": 10,
   "id": "61f52ca6",
   "metadata": {},
   "outputs": [],
   "source": [
    "# Placeholder\n",
    "def run_model_lasso():\n",
    "    lasso = Lasso()\n",
    "    lasso.fit(X_train_scaled, y_train)\n",
    "    y_pred_lasso = lasso.predict(X_test_scaled)\n",
    "    mse = mean_squared_error(y_test, y_pred_lasso)\n",
    "    rmse = np.sqrt(mse)\n",
    "    print(\"Lasso: \", rmse)\n",
    "    # predicting the accuracy score\n",
    "    score = r2_score(y_test, y_pred_lasso)\n",
    "    print('r2 score is ',score)\n",
    "    print('mean_sqrd_error is==',mean_squared_error(y_test,y_pred_lasso))\n",
    "    print('root_mean_squared error of is==',np.sqrt(mean_squared_error(y_test,y_pred_lasso)))\n",
    "# end run_model_lasso\n",
    "# **************************************    "
   ]
  },
  {
   "cell_type": "markdown",
   "id": "c7acaae6",
   "metadata": {},
   "source": [
    "### Model: Ridge"
   ]
  },
  {
   "cell_type": "code",
   "execution_count": 11,
   "id": "90bc9069",
   "metadata": {},
   "outputs": [],
   "source": [
    "# **************************************\n",
    "# **************************************\n",
    "# Ridge\n",
    "# Placeholder\n",
    "# **************************************\n",
    "# **************************************\n",
    "def run_model_ridge():\n",
    "    ridge = Ridge()\n",
    "    ridge.fit(X_train_scaled, y_train)\n",
    "    y_pred_ridge = ridge.predict(X_test_scaled)\n",
    "    mse = mean_squared_error(y_test, y_pred_ridge)\n",
    "    rmse = np.sqrt(mse)\n",
    "    print(\"Ridge: \", rmse)\n",
    "    # predicting the accuracy score\n",
    "    score = r2_score(y_test, y_pred_ridge)\n",
    "    print('r2 score is ',score)\n",
    "    print('mean_sqrd_error is==',mean_squared_error(y_test,y_pred_ridge))\n",
    "    print('root_mean_squared error of is==',np.sqrt(mean_squared_error(y_test,y_pred_ridge)))\n",
    "\n",
    "# end run_model_ridge()\n",
    "# **************************************"
   ]
  },
  {
   "cell_type": "markdown",
   "id": "4e0b909e",
   "metadata": {},
   "source": [
    "### Model: Random Forest Regression"
   ]
  },
  {
   "cell_type": "code",
   "execution_count": 12,
   "id": "401677c3",
   "metadata": {},
   "outputs": [],
   "source": [
    "# Placeholder\n",
    "def run_model_random_forest():\n",
    "# Produces: ValueError: Found input variables with inconsistent numbers of samples: [40911, 3147]    \n",
    "#     # Fitting Random Forest Regression to the dataset\n",
    "#     regressor = RandomForestRegressor(n_estimators = rf_estimators, random_state = int_random_state)\n",
    "#     regressor.fit(X.reshape(-1,1), y.reshape(-1, 1))\n",
    "#     # Predicting a new result\n",
    "#     y_pred = regressor.predict([[6.5]]) # what is this magic number?\n",
    "\n",
    "#     # Interactive visualizations. Remove from final result?\n",
    "#     X_grid = np.arange(min(X), max(X), 0.01)\n",
    "#     X_grid = X_grid.reshape((len(X_grid), 1))\n",
    "#     plt.scatter(X, y, color = 'red')\n",
    "#     plt.plot(X_grid, regressor.predict(X_grid), color = 'blue')\n",
    "#     plt.title('Truth or Bluff (Random Forest Regression)')\n",
    "#     plt.xlabel('')\n",
    "#     plt.ylabel('')\n",
    "#     plt.show()\n",
    "    print('run_model_random_forest() was called.')\n",
    "\n",
    "# end run_model_random_forest()\n",
    "# **************************************"
   ]
  },
  {
   "cell_type": "markdown",
   "id": "f98848bf",
   "metadata": {},
   "source": [
    "## Execute Model(s)"
   ]
  },
  {
   "cell_type": "code",
   "execution_count": 13,
   "id": "d2bce8b4",
   "metadata": {},
   "outputs": [
    {
     "name": "stdout",
     "output_type": "stream",
     "text": [
      "Model: \"sequential\"\n",
      "_________________________________________________________________\n",
      "Layer (type)                 Output Shape              Param #   \n",
      "=================================================================\n",
      "dense (Dense)                (None, 8)                 112       \n",
      "_________________________________________________________________\n",
      "dense_1 (Dense)              (None, 16)                144       \n",
      "_________________________________________________________________\n",
      "dense_2 (Dense)              (None, 1)                 17        \n",
      "=================================================================\n",
      "Total params: 273\n",
      "Trainable params: 273\n",
      "Non-trainable params: 0\n",
      "_________________________________________________________________\n",
      "None\n",
      "Epoch 1/100\n",
      "74/74 [==============================] - 0s 1ms/step - loss: -17019.0391 - accuracy: 0.0000e+00\n",
      "Epoch 2/100\n",
      "74/74 [==============================] - 0s 607us/step - loss: -46189.9883 - accuracy: 0.0000e+00\n",
      "Epoch 3/100\n",
      "74/74 [==============================] - 0s 644us/step - loss: -101271.9766 - accuracy: 0.0000e+00\n",
      "Epoch 4/100\n",
      "74/74 [==============================] - 0s 614us/step - loss: -197218.7969 - accuracy: 0.0000e+00\n",
      "Epoch 5/100\n",
      "74/74 [==============================] - 0s 578us/step - loss: -347916.7500 - accuracy: 0.0000e+00\n",
      "Epoch 6/100\n",
      "74/74 [==============================] - 0s 596us/step - loss: -563145.5625 - accuracy: 0.0000e+00\n",
      "Epoch 7/100\n",
      "74/74 [==============================] - 0s 640us/step - loss: -869569.4375 - accuracy: 0.0000e+00\n",
      "Epoch 8/100\n",
      "74/74 [==============================] - 0s 587us/step - loss: -1301195.8750 - accuracy: 0.0000e+00\n",
      "Epoch 9/100\n",
      "74/74 [==============================] - 0s 661us/step - loss: -1849150.0000 - accuracy: 0.0000e+00\n",
      "Epoch 10/100\n",
      "74/74 [==============================] - 0s 657us/step - loss: -2533023.0000 - accuracy: 0.0000e+00\n",
      "Epoch 11/100\n",
      "74/74 [==============================] - 0s 643us/step - loss: -3299029.0000 - accuracy: 0.0000e+00\n",
      "Epoch 12/100\n",
      "74/74 [==============================] - 0s 629us/step - loss: -4163720.2500 - accuracy: 0.0000e+00\n",
      "Epoch 13/100\n",
      "74/74 [==============================] - 0s 656us/step - loss: -5205473.5000 - accuracy: 0.0000e+00\n",
      "Epoch 14/100\n",
      "74/74 [==============================] - ETA: 0s - loss: -1161753.3750 - accuracy: 0.0000e+0 - 0s 658us/step - loss: -6395303.0000 - accuracy: 0.0000e+00\n",
      "Epoch 15/100\n",
      "74/74 [==============================] - 0s 690us/step - loss: -7769777.0000 - accuracy: 0.0000e+00\n",
      "Epoch 16/100\n",
      "74/74 [==============================] - 0s 628us/step - loss: -9343671.0000 - accuracy: 0.0000e+00\n",
      "Epoch 17/100\n",
      "74/74 [==============================] - 0s 665us/step - loss: -11163050.0000 - accuracy: 0.0000e+00\n",
      "Epoch 18/100\n",
      "74/74 [==============================] - 0s 678us/step - loss: -13173518.0000 - accuracy: 0.0000e+00\n",
      "Epoch 19/100\n",
      "74/74 [==============================] - 0s 638us/step - loss: -15344227.0000 - accuracy: 0.0000e+00\n",
      "Epoch 20/100\n",
      "74/74 [==============================] - 0s 601us/step - loss: -17780092.0000 - accuracy: 0.0000e+00\n",
      "Epoch 21/100\n",
      "74/74 [==============================] - 0s 552us/step - loss: -20364584.0000 - accuracy: 0.0000e+00\n",
      "Epoch 22/100\n",
      "74/74 [==============================] - 0s 620us/step - loss: -23295624.0000 - accuracy: 0.0000e+00\n",
      "Epoch 23/100\n",
      "74/74 [==============================] - 0s 603us/step - loss: -26350074.0000 - accuracy: 0.0000e+00\n",
      "Epoch 24/100\n",
      "74/74 [==============================] - 0s 572us/step - loss: -29818814.0000 - accuracy: 0.0000e+00\n",
      "Epoch 25/100\n",
      "74/74 [==============================] - 0s 657us/step - loss: -33407442.0000 - accuracy: 0.0000e+00\n",
      "Epoch 26/100\n",
      "74/74 [==============================] - 0s 636us/step - loss: -37310008.0000 - accuracy: 0.0000e+00\n",
      "Epoch 27/100\n",
      "74/74 [==============================] - 0s 595us/step - loss: -41298040.0000 - accuracy: 0.0000e+00\n",
      "Epoch 28/100\n",
      "74/74 [==============================] - 0s 586us/step - loss: -45558456.0000 - accuracy: 0.0000e+00\n",
      "Epoch 29/100\n",
      "74/74 [==============================] - 0s 593us/step - loss: -50228804.0000 - accuracy: 0.0000e+00\n",
      "Epoch 30/100\n",
      "74/74 [==============================] - 0s 698us/step - loss: -54853852.0000 - accuracy: 0.0000e+00\n",
      "Epoch 31/100\n",
      "74/74 [==============================] - 0s 771us/step - loss: -60223376.0000 - accuracy: 0.0000e+00\n",
      "Epoch 32/100\n",
      "74/74 [==============================] - 0s 665us/step - loss: -65587908.0000 - accuracy: 0.0000e+00\n",
      "Epoch 33/100\n",
      "74/74 [==============================] - 0s 674us/step - loss: -71398072.0000 - accuracy: 0.0000e+00\n",
      "Epoch 34/100\n",
      "74/74 [==============================] - 0s 594us/step - loss: -77591760.0000 - accuracy: 0.0000e+00\n",
      "Epoch 35/100\n",
      "74/74 [==============================] - 0s 549us/step - loss: -84029648.0000 - accuracy: 0.0000e+00\n",
      "Epoch 36/100\n",
      "74/74 [==============================] - 0s 567us/step - loss: -90225440.0000 - accuracy: 0.0000e+00\n",
      "Epoch 37/100\n",
      "74/74 [==============================] - 0s 608us/step - loss: -97094776.0000 - accuracy: 0.0000e+00\n",
      "Epoch 38/100\n",
      "74/74 [==============================] - 0s 642us/step - loss: -104085280.0000 - accuracy: 0.0000e+00\n",
      "Epoch 39/100\n",
      "74/74 [==============================] - 0s 543us/step - loss: -111269400.0000 - accuracy: 0.0000e+00\n",
      "Epoch 40/100\n",
      "74/74 [==============================] - 0s 610us/step - loss: -118843304.0000 - accuracy: 0.0000e+00\n",
      "Epoch 41/100\n",
      "74/74 [==============================] - 0s 598us/step - loss: -126379856.0000 - accuracy: 0.0000e+00\n",
      "Epoch 42/100\n",
      "74/74 [==============================] - 0s 590us/step - loss: -134519104.0000 - accuracy: 0.0000e+00\n",
      "Epoch 43/100\n",
      "74/74 [==============================] - 0s 633us/step - loss: -142921984.0000 - accuracy: 0.0000e+00\n",
      "Epoch 44/100\n",
      "74/74 [==============================] - 0s 644us/step - loss: -151613824.0000 - accuracy: 0.0000e+00\n",
      "Epoch 45/100\n",
      "74/74 [==============================] - 0s 627us/step - loss: -160675376.0000 - accuracy: 0.0000e+00\n",
      "Epoch 46/100\n",
      "74/74 [==============================] - 0s 653us/step - loss: -169662208.0000 - accuracy: 0.0000e+00\n",
      "Epoch 47/100\n",
      "74/74 [==============================] - 0s 646us/step - loss: -179151360.0000 - accuracy: 0.0000e+00\n",
      "Epoch 48/100\n",
      "74/74 [==============================] - 0s 634us/step - loss: -188821648.0000 - accuracy: 0.0000e+00\n",
      "Epoch 49/100\n",
      "74/74 [==============================] - 0s 626us/step - loss: -199203136.0000 - accuracy: 0.0000e+00\n",
      "Epoch 50/100\n",
      "74/74 [==============================] - 0s 690us/step - loss: -209420240.0000 - accuracy: 0.0000e+00\n",
      "Epoch 51/100\n",
      "74/74 [==============================] - 0s 584us/step - loss: -220191616.0000 - accuracy: 0.0000e+00\n",
      "Epoch 52/100\n",
      "74/74 [==============================] - 0s 631us/step - loss: -231050144.0000 - accuracy: 0.0000e+00\n",
      "Epoch 53/100\n",
      "74/74 [==============================] - 0s 581us/step - loss: -242471424.0000 - accuracy: 0.0000e+00\n",
      "Epoch 54/100\n",
      "74/74 [==============================] - 0s 614us/step - loss: -254221008.0000 - accuracy: 0.0000e+00\n",
      "Epoch 55/100\n",
      "74/74 [==============================] - 0s 653us/step - loss: -266581904.0000 - accuracy: 0.0000e+00\n",
      "Epoch 56/100\n",
      "74/74 [==============================] - 0s 606us/step - loss: -278785696.0000 - accuracy: 0.0000e+00\n",
      "Epoch 57/100\n",
      "74/74 [==============================] - 0s 551us/step - loss: -291474528.0000 - accuracy: 0.0000e+00\n",
      "Epoch 58/100\n",
      "74/74 [==============================] - 0s 584us/step - loss: -304918368.0000 - accuracy: 0.0000e+00\n",
      "Epoch 59/100\n",
      "74/74 [==============================] - 0s 580us/step - loss: -318361408.0000 - accuracy: 0.0000e+00\n",
      "Epoch 60/100\n",
      "74/74 [==============================] - 0s 586us/step - loss: -332137632.0000 - accuracy: 0.0000e+00\n",
      "Epoch 61/100\n",
      "74/74 [==============================] - 0s 577us/step - loss: -346551264.0000 - accuracy: 0.0000e+00\n",
      "Epoch 62/100\n",
      "74/74 [==============================] - 0s 566us/step - loss: -360648864.0000 - accuracy: 0.0000e+00\n",
      "Epoch 63/100\n",
      "74/74 [==============================] - 0s 567us/step - loss: -375631872.0000 - accuracy: 0.0000e+00\n",
      "Epoch 64/100\n",
      "74/74 [==============================] - 0s 605us/step - loss: -390820416.0000 - accuracy: 0.0000e+00\n",
      "Epoch 65/100\n"
     ]
    },
    {
     "name": "stdout",
     "output_type": "stream",
     "text": [
      "74/74 [==============================] - 0s 580us/step - loss: -406121696.0000 - accuracy: 0.0000e+00\n",
      "Epoch 66/100\n",
      "74/74 [==============================] - 0s 584us/step - loss: -421525696.0000 - accuracy: 0.0000e+00\n",
      "Epoch 67/100\n",
      "74/74 [==============================] - 0s 620us/step - loss: -437746528.0000 - accuracy: 0.0000e+00\n",
      "Epoch 68/100\n",
      "74/74 [==============================] - 0s 567us/step - loss: -453883328.0000 - accuracy: 0.0000e+00\n",
      "Epoch 69/100\n",
      "74/74 [==============================] - 0s 564us/step - loss: -470666784.0000 - accuracy: 0.0000e+00\n",
      "Epoch 70/100\n",
      "74/74 [==============================] - 0s 667us/step - loss: -487736864.0000 - accuracy: 0.0000e+00\n",
      "Epoch 71/100\n",
      "74/74 [==============================] - 0s 784us/step - loss: -504977248.0000 - accuracy: 0.0000e+00\n",
      "Epoch 72/100\n",
      "74/74 [==============================] - 0s 609us/step - loss: -522763456.0000 - accuracy: 0.0000e+00\n",
      "Epoch 73/100\n",
      "74/74 [==============================] - 0s 605us/step - loss: -540954624.0000 - accuracy: 0.0000e+00\n",
      "Epoch 74/100\n",
      "74/74 [==============================] - 0s 627us/step - loss: -559696320.0000 - accuracy: 0.0000e+00\n",
      "Epoch 75/100\n",
      "74/74 [==============================] - 0s 638us/step - loss: -578470848.0000 - accuracy: 0.0000e+00\n",
      "Epoch 76/100\n",
      "74/74 [==============================] - 0s 572us/step - loss: -597549120.0000 - accuracy: 0.0000e+00\n",
      "Epoch 77/100\n",
      "74/74 [==============================] - 0s 601us/step - loss: -617940096.0000 - accuracy: 0.0000e+00\n",
      "Epoch 78/100\n",
      "74/74 [==============================] - 0s 631us/step - loss: -638062848.0000 - accuracy: 0.0000e+00\n",
      "Epoch 79/100\n",
      "74/74 [==============================] - 0s 611us/step - loss: -658430464.0000 - accuracy: 0.0000e+00\n",
      "Epoch 80/100\n",
      "74/74 [==============================] - 0s 550us/step - loss: -678891776.0000 - accuracy: 0.0000e+00\n",
      "Epoch 81/100\n",
      "74/74 [==============================] - 0s 767us/step - loss: -700275840.0000 - accuracy: 0.0000e+00\n",
      "Epoch 82/100\n",
      "74/74 [==============================] - 0s 592us/step - loss: -721343872.0000 - accuracy: 0.0000e+00\n",
      "Epoch 83/100\n",
      "74/74 [==============================] - 0s 572us/step - loss: -743947008.0000 - accuracy: 0.0000e+00\n",
      "Epoch 84/100\n",
      "74/74 [==============================] - 0s 588us/step - loss: -765372864.0000 - accuracy: 0.0000e+00\n",
      "Epoch 85/100\n",
      "74/74 [==============================] - 0s 617us/step - loss: -788071360.0000 - accuracy: 0.0000e+00\n",
      "Epoch 86/100\n",
      "74/74 [==============================] - 0s 576us/step - loss: -810947200.0000 - accuracy: 0.0000e+00\n",
      "Epoch 87/100\n",
      "74/74 [==============================] - 0s 549us/step - loss: -833821504.0000 - accuracy: 0.0000e+00\n",
      "Epoch 88/100\n",
      "74/74 [==============================] - 0s 619us/step - loss: -857184192.0000 - accuracy: 0.0000e+00\n",
      "Epoch 89/100\n",
      "74/74 [==============================] - 0s 591us/step - loss: -880908224.0000 - accuracy: 0.0000e+00\n",
      "Epoch 90/100\n",
      "74/74 [==============================] - 0s 566us/step - loss: -904852608.0000 - accuracy: 0.0000e+00\n",
      "Epoch 91/100\n",
      "74/74 [==============================] - 0s 588us/step - loss: -929324224.0000 - accuracy: 0.0000e+00\n",
      "Epoch 92/100\n",
      "74/74 [==============================] - 0s 575us/step - loss: -954520192.0000 - accuracy: 0.0000e+00\n",
      "Epoch 93/100\n",
      "74/74 [==============================] - 0s 560us/step - loss: -979974016.0000 - accuracy: 0.0000e+00\n",
      "Epoch 94/100\n",
      "74/74 [==============================] - 0s 587us/step - loss: -1005443648.0000 - accuracy: 0.0000e+00\n",
      "Epoch 95/100\n",
      "74/74 [==============================] - 0s 563us/step - loss: -1031160640.0000 - accuracy: 0.0000e+00\n",
      "Epoch 96/100\n",
      "74/74 [==============================] - 0s 556us/step - loss: -1057678400.0000 - accuracy: 0.0000e+00\n",
      "Epoch 97/100\n",
      "74/74 [==============================] - 0s 597us/step - loss: -1085241984.0000 - accuracy: 0.0000e+00\n",
      "Epoch 98/100\n",
      "74/74 [==============================] - 0s 600us/step - loss: -1112247296.0000 - accuracy: 0.0000e+00\n",
      "Epoch 99/100\n",
      "74/74 [==============================] - 0s 551us/step - loss: -1140183808.0000 - accuracy: 0.0000e+00\n",
      "Epoch 100/100\n",
      "74/74 [==============================] - 0s 598us/step - loss: -1169081728.0000 - accuracy: 0.0000e+00\n",
      "25/25 - 0s - loss: -1.0722e+09 - accuracy: 0.0000e+00\n",
      "Loss: -1072175360.0, Accuracy: 0.0\n"
     ]
    }
   ],
   "source": [
    "run_model_sequential()"
   ]
  },
  {
   "cell_type": "code",
   "execution_count": null,
   "id": "298fb6e4",
   "metadata": {},
   "outputs": [],
   "source": []
  },
  {
   "cell_type": "code",
   "execution_count": 14,
   "id": "d1b1e1ce",
   "metadata": {},
   "outputs": [
    {
     "name": "stdout",
     "output_type": "stream",
     "text": [
      "Linear Regression:  0.5049187440325233\n",
      "r2 score is  0.9999999986115002\n",
      "mean_sqrd_error is== 0.2549429380753809\n",
      "root_mean_squared error of is== 0.5049187440325233\n"
     ]
    }
   ],
   "source": [
    "run_model_linear_regression()"
   ]
  },
  {
   "cell_type": "code",
   "execution_count": 15,
   "id": "3f14a20a",
   "metadata": {},
   "outputs": [
    {
     "name": "stdout",
     "output_type": "stream",
     "text": [
      "Lasso:  1.3062286665081242\n",
      "r2 score is  0.9999999907073143\n",
      "mean_sqrd_error is== 1.7062333292075924\n",
      "root_mean_squared error of is== 1.3062286665081242\n"
     ]
    }
   ],
   "source": [
    "run_model_lasso()"
   ]
  },
  {
   "cell_type": "code",
   "execution_count": 16,
   "id": "1deb2184",
   "metadata": {},
   "outputs": [
    {
     "name": "stdout",
     "output_type": "stream",
     "text": [
      "Ridge:  43.980589230333834\n",
      "r2 score is  0.9999894652334139\n",
      "mean_sqrd_error is== 1934.2922290473564\n",
      "root_mean_squared error of is== 43.980589230333834\n"
     ]
    }
   ],
   "source": [
    "run_model_ridge()"
   ]
  },
  {
   "cell_type": "code",
   "execution_count": 17,
   "id": "575b399b",
   "metadata": {},
   "outputs": [
    {
     "name": "stdout",
     "output_type": "stream",
     "text": [
      "run_model_random_forest() was called.\n"
     ]
    }
   ],
   "source": [
    "run_model_random_forest()"
   ]
  }
 ],
 "metadata": {
  "kernelspec": {
   "display_name": "mlenv",
   "language": "python",
   "name": "mlenv"
  },
  "language_info": {
   "codemirror_mode": {
    "name": "ipython",
    "version": 3
   },
   "file_extension": ".py",
   "mimetype": "text/x-python",
   "name": "python",
   "nbconvert_exporter": "python",
   "pygments_lexer": "ipython3",
   "version": "3.7.11"
  }
 },
 "nbformat": 4,
 "nbformat_minor": 5
}
