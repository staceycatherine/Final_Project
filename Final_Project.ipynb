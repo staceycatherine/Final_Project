{
 "cells": [
  {
   "cell_type": "markdown",
   "id": "fa31ba4c",
   "metadata": {},
   "source": [
    "# Module 20 - Final Project\n",
    "\n",
    "## Authors:          Stacey Hart, Ron Bingham, Fritz Knack\n",
    "\n",
    "Umbrella notebook that runs all the models. Comment out any you don't want executed.\n"
   ]
  },
  {
   "cell_type": "markdown",
   "id": "ab56d0aa",
   "metadata": {},
   "source": [
    "## Dependencies\n",
    "\n",
    "Common dependencies and those needed for each of the models contained in this notebook.\n",
    "\n",
    "**Note**: Some models have parameters (e.g., deep layers in the Neural Networks model) that can be configured in the cells that follow.\n"
   ]
  },
  {
   "cell_type": "code",
   "execution_count": 1,
   "id": "8fb4d2ed",
   "metadata": {},
   "outputs": [],
   "source": [
    "# **************************************\n",
    "# Common\n",
    "# **************************************\n",
    "import pandas as pd\n",
    "import os\n",
    "from sklearn.model_selection import train_test_split\n",
    "from sklearn.preprocessing import StandardScaler,OneHotEncoder\n",
    "from sqlalchemy.orm import Session\n",
    "from sqlalchemy import create_engine\n",
    "import numpy as np\n",
    "import matplotlib.pyplot as plt\n",
    "import re\n",
    "from sklearn.metrics import mean_squared_error, r2_score\n",
    "\n",
    "from utils_common import get_db_engine, encode_dataframe\n",
    "\n",
    "# Suppresses the GPU-related warning messages that TensorFlow produces\n",
    "import warnings\n",
    "warnings.filterwarnings('ignore')\n",
    "\n",
    "# **************************************\n",
    "# keras.models.Sequential()\n",
    "# See Neural Net Configuration Variables below\n",
    "# **************************************\n",
    "import tensorflow as tf\n",
    "from tensorflow.keras.callbacks import ModelCheckpoint # keras, not kera\n",
    "\n",
    "# **************************************\n",
    "# sklearn.linear_model - LinearRegression\n",
    "# No configuration variables, just run it.\n",
    "# **************************************\n",
    "from sklearn.linear_model import LinearRegression\n",
    "\n",
    "# **************************************\n",
    "# sklearn.linear_model - Lasso\n",
    "# No configuration variables, just run it.\n",
    "# **************************************\n",
    "from sklearn.linear_model import Lasso\n",
    "\n",
    "# **************************************\n",
    "# sklearn.linear_model - Ridge\n",
    "# No configuration variables, just run it.\n",
    "# **************************************\n",
    "from sklearn.linear_model import Ridge\n",
    "\n",
    "# **************************************\n",
    "# sklearn.ensemble - RandomForestRegressor\n",
    "# See Random Forest Configuration Variables below\n",
    "# **************************************\n",
    "from sklearn.ensemble import RandomForestRegressor\n"
   ]
  },
  {
   "cell_type": "markdown",
   "id": "b857011f",
   "metadata": {},
   "source": [
    "## Configuration Variables"
   ]
  },
  {
   "cell_type": "markdown",
   "id": "f1599db1",
   "metadata": {},
   "source": [
    "### Configuration: Common"
   ]
  },
  {
   "cell_type": "code",
   "execution_count": 2,
   "id": "10942832",
   "metadata": {},
   "outputs": [],
   "source": [
    "# **************************************\n",
    "# Common Configuration Variables\n",
    "# **************************************\n",
    "int_random_state = 0\n",
    "y_column = 'TotalVets'"
   ]
  },
  {
   "cell_type": "markdown",
   "id": "b2946394",
   "metadata": {},
   "source": [
    "### Configuration: Neural Network"
   ]
  },
  {
   "cell_type": "code",
   "execution_count": 3,
   "id": "252652b8",
   "metadata": {},
   "outputs": [],
   "source": [
    "# **************************************\n",
    "# Neural Net Configuration Variables\n",
    "# **************************************\n",
    "\n",
    "# ******************\n",
    "# Data Configuration\n",
    "tablename = 'people_vet_join'\n",
    "y_column = 'TotalVets'\n",
    "\n",
    "# ******************\n",
    "# First Layer Configuration\n",
    "kS_nn_first_units       = 8\n",
    "kS_nn_first_activation  = \"relu\"\n",
    "\n",
    "# ******************\n",
    "# Output Layer Configuration\n",
    "kS_nn_output_units      = 1\n",
    "kS_nn_output_activation = \"sigmoid\"\n",
    "\n",
    "# ******************\n",
    "# Deep Learning Configuration\n",
    "kS_nn_deep_layers       = [\n",
    "    # Comment out the next two lines to disable \"deep learning\"\n",
    "    {\"units\": 16,\n",
    "     \"activation\": \"relu\"},\n",
    "\n",
    "    # Add more layers with\n",
    "    #    {\"units\": <units>,\n",
    "    #     \"activation\": <activation>},\n",
    "                     ]\n",
    "\n",
    "# ******************\n",
    "# Compiler Configuration\n",
    "kS_nn_compile_loss      = \"binary_crossentropy\"\n",
    "kS_nn_compile_optimizer = \"adam\"\n",
    "kS_nn_compile_metrics   = [\"accuracy\"]\n",
    "\n",
    "# ******************\n",
    "# Training Configuration\n",
    "kS_nn_train_epochs      = 100\n",
    "\n",
    "# ******************\n",
    "# Output File\n",
    "kS_nn_file              = \"kS-Enlistment_Prediction.h5\""
   ]
  },
  {
   "cell_type": "markdown",
   "id": "d004d842",
   "metadata": {},
   "source": [
    "### Configuration: Random Forest"
   ]
  },
  {
   "cell_type": "code",
   "execution_count": 4,
   "id": "3a70f5f8",
   "metadata": {},
   "outputs": [],
   "source": [
    "# **************************************\n",
    "# Random Forest Configuration Variables\n",
    "# **************************************\n",
    "rf_estimators = 10"
   ]
  },
  {
   "cell_type": "markdown",
   "id": "440b704d",
   "metadata": {},
   "source": [
    "## Database Connection"
   ]
  },
  {
   "cell_type": "code",
   "execution_count": 5,
   "id": "fc03175c",
   "metadata": {},
   "outputs": [],
   "source": [
    "try:\n",
    "    db_engine = get_db_engine()\n",
    "except Exception as e:\n",
    "    print(f\"\\nFailed to connect to database engine.\\n\", e)\n",
    "\n",
    "try:\n",
    "    combined_df = pd.read_sql_table(tablename, db_engine)\n",
    "except Exception as e:\n",
    "    print(f\"\\nFailed to read table {tablename} on db_engine {db_engine}.\\n\", e)"
   ]
  },
  {
   "cell_type": "markdown",
   "id": "382f3878",
   "metadata": {},
   "source": [
    "## Data Conditioning"
   ]
  },
  {
   "cell_type": "code",
   "execution_count": 6,
   "id": "96765300",
   "metadata": {},
   "outputs": [],
   "source": [
    "# Placeholder\n",
    "# Data scrubbing currently takes place before this notebook is used.\n",
    "# (Temp comment: If I can get the cleanup notebooks nicely consolidated and \n",
    "# wrapped, I'll put 'em right here.)\n"
   ]
  },
  {
   "cell_type": "markdown",
   "id": "04567f5d",
   "metadata": {},
   "source": [
    "## Model Preparation"
   ]
  },
  {
   "cell_type": "code",
   "execution_count": 7,
   "id": "629046af",
   "metadata": {},
   "outputs": [],
   "source": [
    "# ******************\n",
    "# Preserve State and County for labeling things later. Drop State and County\n",
    "# from the model to be processed.\n",
    "try:\n",
    "    df_labels = combined_df[['State', 'County']]\n",
    "    combined_df = combined_df.drop(columns=['State', 'County'])\n",
    "except Exception as e:\n",
    "    print(f\"\\nImported data appears to be missing State and County label columns.\\n\", e)\n",
    "    exit()\n",
    "\n",
    "# # ******************\n",
    "# # Pull off geodata, not needed for the model\n",
    "# try:\n",
    "#     combined_df = combined_df.drop(columns=['State', 'County'])\n",
    "# except Exception as e:\n",
    "#     print(f\"\\nImported data appears to be missing State and County label columns.\\n\", e)\n",
    "#     exit()\n",
    "\n",
    "\n",
    "# ******************\n",
    "# Pull off FIPS, too, but it might have already been cleaned up. No reason to\n",
    "# die here if it has.\n",
    "try:\n",
    "    combined_df = combined_df.drop(columns=['FIPS'])\n",
    "except:\n",
    "    pass\n",
    "\n",
    "# ******************\n",
    "# Split into features and target arrays\n",
    "try:\n",
    "    y = combined_df[y_column].values\n",
    "    X = combined_df.drop([y_column],1).values\n",
    "except Exception as e:\n",
    "    print(f\"\\nFailed extracting {y_column} as target array.\\n\", e)\n",
    "    exit()\n",
    "\n",
    "# ******************\n",
    "# Split preprocessed data into a training and testing dataset\n",
    "try:\n",
    "    X_train, X_test, y_train, y_test = train_test_split( X, y, random_state=int_random_state)\n",
    "except Exception as e:\n",
    "    print(f\"\\nFailed splitting test/train data.\\n\", e)\n",
    "    exit()\n",
    "    \n",
    "# ******************\n",
    "# Scale the data\n",
    "try:\n",
    "    scaler = StandardScaler()\n",
    "    X_scaler = scaler.fit(X_train)\n",
    "    X_train_scaled = X_scaler.transform(X_train)\n",
    "    X_test_scaled = X_scaler.transform(X_test)\n",
    "except Exception as e:\n",
    "    print(f\"\\nFailed scaling data.\\n\", e)\n",
    "    exit()\n"
   ]
  },
  {
   "cell_type": "markdown",
   "id": "7de7880c",
   "metadata": {},
   "source": [
    "## Models"
   ]
  },
  {
   "cell_type": "markdown",
   "id": "de2386a8",
   "metadata": {},
   "source": [
    "### Model: Neural Network - Sequential"
   ]
  },
  {
   "cell_type": "code",
   "execution_count": 8,
   "id": "ec329863",
   "metadata": {},
   "outputs": [],
   "source": [
    "def run_model_sequential():\n",
    "\n",
    "    # Define the model\n",
    "    number_input_features = len(X_train_scaled[0])\n",
    "\n",
    "    nn = tf.keras.models.Sequential()\n",
    "\n",
    "    # First hidden layer\n",
    "    nn.add(tf.keras.layers.Dense(units=kS_nn_first_units,\n",
    "                input_dim=number_input_features,\n",
    "                activation=kS_nn_first_activation))\n",
    "\n",
    "    # Additional hidden layers\n",
    "    for layer in kS_nn_deep_layers:\n",
    "        nn.add(tf.keras.layers.Dense(units=layer['units'],\n",
    "                                     activation=layer['activation']))\n",
    "\n",
    "    # Output layer\n",
    "    nn.add(tf.keras.layers.Dense(units=kS_nn_output_units, activation=kS_nn_output_activation))\n",
    "\n",
    "    # Check the structure of the model\n",
    "    print(nn.summary())\n",
    "\n",
    "    # Compile the model\n",
    "    nn.compile(loss=kS_nn_compile_loss, optimizer=kS_nn_compile_optimizer, metrics=kS_nn_compile_metrics)\n",
    "\n",
    "    # Train the model\n",
    "    fit_model = nn.fit(X_train_scaled, y_train,epochs=kS_nn_train_epochs)\n",
    "\n",
    "    # Evaluate the model using the test data\n",
    "    model_loss, model_accuracy = nn.evaluate(X_test_scaled,y_test,verbose=2)\n",
    "    print(f\"Loss: {model_loss}, Accuracy: {model_accuracy}\")\n",
    "\n",
    "    nn.save(kS_nn_file)\n",
    "\n",
    "# end run_model_sequential()\n",
    "# **************************************"
   ]
  },
  {
   "cell_type": "markdown",
   "id": "fa8f06c9",
   "metadata": {},
   "source": [
    "### Model: Linear Regression"
   ]
  },
  {
   "cell_type": "code",
   "execution_count": 9,
   "id": "bfde9fa2",
   "metadata": {},
   "outputs": [],
   "source": [
    "# Placeholder\n",
    "def run_model_linear_regression():\n",
    "    lin_reg = LinearRegression()\n",
    "    lin_reg.fit(X_train_scaled, y_train)\n",
    "    lin_reg_y_pred = lin_reg.predict(X_test_scaled)\n",
    "    mse = mean_squared_error(y_test, lin_reg_y_pred)\n",
    "    rmse = np.sqrt(mse)\n",
    "    print(\"Linear Regression: \", rmse)\n",
    "    # predicting the accuracy score\n",
    "    score = r2_score(y_test, lin_reg_y_pred)\n",
    "    print('r2 score is ',score)\n",
    "    print('mean_sqrd_error is==',mean_squared_error(y_test,lin_reg_y_pred))\n",
    "    print('root_mean_squared error of is==',np.sqrt(mean_squared_error(y_test,lin_reg_y_pred)))\n",
    "\n",
    "# end run_model_sequential()\n",
    "# **************************************"
   ]
  },
  {
   "cell_type": "markdown",
   "id": "3e15f72f",
   "metadata": {},
   "source": [
    "### Model: Lasso"
   ]
  },
  {
   "cell_type": "code",
   "execution_count": 10,
   "id": "61f52ca6",
   "metadata": {},
   "outputs": [],
   "source": [
    "# Placeholder\n",
    "def run_model_lasso():\n",
    "    lasso = Lasso()\n",
    "    lasso.fit(X_train_scaled, y_train)\n",
    "    y_pred_lasso = lasso.predict(X_test_scaled)\n",
    "    mse = mean_squared_error(y_test, y_pred_lasso)\n",
    "    rmse = np.sqrt(mse)\n",
    "    print(\"Lasso: \", rmse)\n",
    "    # predicting the accuracy score\n",
    "    score = r2_score(y_test, y_pred_lasso)\n",
    "    print('r2 score is ',score)\n",
    "    print('mean_sqrd_error is==',mean_squared_error(y_test,y_pred_lasso))\n",
    "    print('root_mean_squared error of is==',np.sqrt(mean_squared_error(y_test,y_pred_lasso)))\n",
    "# end run_model_lasso\n",
    "# **************************************    "
   ]
  },
  {
   "cell_type": "markdown",
   "id": "c7acaae6",
   "metadata": {},
   "source": [
    "### Model: Ridge"
   ]
  },
  {
   "cell_type": "code",
   "execution_count": 11,
   "id": "90bc9069",
   "metadata": {},
   "outputs": [],
   "source": [
    "# **************************************\n",
    "# **************************************\n",
    "# Ridge\n",
    "# Placeholder\n",
    "# **************************************\n",
    "# **************************************\n",
    "def run_model_ridge():\n",
    "    ridge = Ridge()\n",
    "    ridge.fit(X_train_scaled, y_train)\n",
    "    y_pred_ridge = ridge.predict(X_test_scaled)\n",
    "    mse = mean_squared_error(y_test, y_pred_ridge)\n",
    "    rmse = np.sqrt(mse)\n",
    "    print(\"Ridge: \", rmse)\n",
    "    # predicting the accuracy score\n",
    "    score = r2_score(y_test, y_pred_ridge)\n",
    "    print('r2 score is ',score)\n",
    "    print('mean_sqrd_error is==',mean_squared_error(y_test,y_pred_ridge))\n",
    "    print('root_mean_squared error of is==',np.sqrt(mean_squared_error(y_test,y_pred_ridge)))\n",
    "\n",
    "# end run_model_ridge()\n",
    "# **************************************"
   ]
  },
  {
   "cell_type": "markdown",
   "id": "4e0b909e",
   "metadata": {},
   "source": [
    "### Model: Random Forest Regression"
   ]
  },
  {
   "cell_type": "code",
   "execution_count": 12,
   "id": "401677c3",
   "metadata": {},
   "outputs": [],
   "source": [
    "# Placeholder\n",
    "def run_model_random_forest():\n",
    "# Produces: ValueError: Found input variables with inconsistent numbers of samples: [40911, 3147]    \n",
    "#     # Fitting Random Forest Regression to the dataset\n",
    "#     regressor = RandomForestRegressor(n_estimators = rf_estimators, random_state = int_random_state)\n",
    "#     regressor.fit(X.reshape(-1,1), y.reshape(-1, 1))\n",
    "#     # Predicting a new result\n",
    "#     y_pred = regressor.predict([[6.5]]) # what is this magic number?\n",
    "\n",
    "#     # Interactive visualizations. Remove from final result?\n",
    "#     X_grid = np.arange(min(X), max(X), 0.01)\n",
    "#     X_grid = X_grid.reshape((len(X_grid), 1))\n",
    "#     plt.scatter(X, y, color = 'red')\n",
    "#     plt.plot(X_grid, regressor.predict(X_grid), color = 'blue')\n",
    "#     plt.title('Truth or Bluff (Random Forest Regression)')\n",
    "#     plt.xlabel('')\n",
    "#     plt.ylabel('')\n",
    "#     plt.show()\n",
    "    print('run_model_random_forest() was called.')\n",
    "\n",
    "# end run_model_random_forest()\n",
    "# **************************************"
   ]
  },
  {
   "cell_type": "markdown",
   "id": "f98848bf",
   "metadata": {},
   "source": [
    "## Execute Model(s)"
   ]
  },
  {
   "cell_type": "code",
   "execution_count": 13,
   "id": "d2bce8b4",
   "metadata": {},
   "outputs": [],
   "source": [
    "# run_model_sequential()"
   ]
  },
  {
   "cell_type": "code",
   "execution_count": null,
   "id": "298fb6e4",
   "metadata": {},
   "outputs": [],
   "source": []
  },
  {
   "cell_type": "code",
   "execution_count": 14,
   "id": "d1b1e1ce",
   "metadata": {},
   "outputs": [
    {
     "name": "stdout",
     "output_type": "stream",
     "text": [
      "Linear Regression:  0.5049187440325233\n",
      "r2 score is  0.9999999986115002\n",
      "mean_sqrd_error is== 0.2549429380753809\n",
      "root_mean_squared error of is== 0.5049187440325233\n"
     ]
    }
   ],
   "source": [
    "run_model_linear_regression()"
   ]
  },
  {
   "cell_type": "code",
   "execution_count": 15,
   "id": "3f14a20a",
   "metadata": {},
   "outputs": [
    {
     "name": "stdout",
     "output_type": "stream",
     "text": [
      "Lasso:  1.3062286665081242\n",
      "r2 score is  0.9999999907073143\n",
      "mean_sqrd_error is== 1.7062333292075924\n",
      "root_mean_squared error of is== 1.3062286665081242\n"
     ]
    }
   ],
   "source": [
    "run_model_lasso()"
   ]
  },
  {
   "cell_type": "code",
   "execution_count": 16,
   "id": "1deb2184",
   "metadata": {},
   "outputs": [
    {
     "name": "stdout",
     "output_type": "stream",
     "text": [
      "Ridge:  43.980589230333834\n",
      "r2 score is  0.9999894652334139\n",
      "mean_sqrd_error is== 1934.2922290473564\n",
      "root_mean_squared error of is== 43.980589230333834\n"
     ]
    }
   ],
   "source": [
    "run_model_ridge()"
   ]
  },
  {
   "cell_type": "code",
   "execution_count": 17,
   "id": "575b399b",
   "metadata": {},
   "outputs": [
    {
     "name": "stdout",
     "output_type": "stream",
     "text": [
      "run_model_random_forest() was called.\n"
     ]
    }
   ],
   "source": [
    "run_model_random_forest()"
   ]
  }
 ],
 "metadata": {
  "kernelspec": {
   "display_name": "mlenv",
   "language": "python",
   "name": "mlenv"
  },
  "language_info": {
   "codemirror_mode": {
    "name": "ipython",
    "version": 3
   },
   "file_extension": ".py",
   "mimetype": "text/x-python",
   "name": "python",
   "nbconvert_exporter": "python",
   "pygments_lexer": "ipython3",
   "version": "3.7.11"
  }
 },
 "nbformat": 4,
 "nbformat_minor": 5
}
