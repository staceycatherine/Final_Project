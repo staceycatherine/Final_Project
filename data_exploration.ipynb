{
 "cells": [
  {
   "cell_type": "code",
   "execution_count": 2,
   "id": "eeea3d59",
   "metadata": {},
   "outputs": [],
   "source": [
    "# Import dependencies\n",
    "import pandas as pd\n",
    "import os\n",
    "from sklearn.model_selection import train_test_split\n",
    "from sklearn.preprocessing import StandardScaler,OneHotEncoder\n",
    "from sklearn.linear_model import LinearRegression\n",
    "from utils_common import get_db_session, encode_dataframe\n",
    "\n"
   ]
  },
  {
   "cell_type": "code",
   "execution_count": null,
   "id": "c8cff8b7",
   "metadata": {},
   "outputs": [],
   "source": [
    "db_session = get_db_session()\n",
    "combined_df = pd.read_sql_table('<tablename>', db_session)"
   ]
  },
  {
   "cell_type": "code",
   "execution_count": null,
   "id": "b8133ef9",
   "metadata": {},
   "outputs": [],
   "source": [
    "# Look at value counts for binning if needed\n",
    "column_count= combined_df.column name.value_counts()\n",
    "column_count"
   ]
  },
  {
   "cell_type": "code",
   "execution_count": null,
   "id": "4828f9e2",
   "metadata": {},
   "outputs": [],
   "source": [
    "# Visualize the value count of column_count to identify which values to replace if needed\n",
    "column_counts.plot.density()"
   ]
  }
 ],
 "metadata": {
  "kernelspec": {
   "display_name": "mlenv",
   "language": "python",
   "name": "mlenv"
  },
  "language_info": {
   "codemirror_mode": {
    "name": "ipython",
    "version": 3
   },
   "file_extension": ".py",
   "mimetype": "text/x-python",
   "name": "python",
   "nbconvert_exporter": "python",
   "pygments_lexer": "ipython3",
   "version": "3.7.11"
  }
 },
 "nbformat": 4,
 "nbformat_minor": 5
}
