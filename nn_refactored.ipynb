{
 "cells": [
  {
   "cell_type": "code",
   "execution_count": null,
   "id": "095f67f1",
   "metadata": {},
   "outputs": [],
   "source": [
    "\n"
   ]
  },
  {
   "cell_type": "code",
   "execution_count": 1,
   "id": "1e0461d3",
   "metadata": {},
   "outputs": [],
   "source": [
    "# Import dependencies\n",
    "import pandas as pd\n",
    "import os\n",
    "from sklearn.model_selection import train_test_split\n",
    "from sklearn.preprocessing import StandardScaler,OneHotEncoder\n",
    "from sklearn.linear_model import LinearRegression\n",
    "\n",
    "# **************************************\n",
    "# keras.models.Sequential()\n",
    "# **************************************\n",
    "# import tensorflow as tf\n",
    "# from tensorflow.kera.callbacks import ModelCheckpoint\n"
   ]
  },
  {
   "cell_type": "code",
   "execution_count": 2,
   "id": "ef1e741f",
   "metadata": {},
   "outputs": [
    {
     "ename": "NotImplementedError",
     "evalue": "read_sql_table only supported for SQLAlchemy connectable.",
     "output_type": "error",
     "traceback": [
      "\u001b[1;31m---------------------------------------------------------------------------\u001b[0m",
      "\u001b[1;31mNotImplementedError\u001b[0m                       Traceback (most recent call last)",
      "\u001b[1;32m~\\AppData\\Local\\Temp/ipykernel_21304/2705804548.py\u001b[0m in \u001b[0;36m<module>\u001b[1;34m\u001b[0m\n\u001b[0;32m      4\u001b[0m \u001b[1;32mfrom\u001b[0m \u001b[0mutils_common\u001b[0m \u001b[1;32mimport\u001b[0m \u001b[0mget_db_session\u001b[0m\u001b[1;33m\u001b[0m\u001b[1;33m\u001b[0m\u001b[0m\n\u001b[0;32m      5\u001b[0m \u001b[0mdb_session\u001b[0m \u001b[1;33m=\u001b[0m \u001b[0mget_db_session\u001b[0m\u001b[1;33m(\u001b[0m\u001b[1;33m)\u001b[0m\u001b[1;33m\u001b[0m\u001b[1;33m\u001b[0m\u001b[0m\n\u001b[1;32m----> 6\u001b[1;33m \u001b[0mcombined_df\u001b[0m \u001b[1;33m=\u001b[0m \u001b[0mpd\u001b[0m\u001b[1;33m.\u001b[0m\u001b[0mread_sql_table\u001b[0m\u001b[1;33m(\u001b[0m\u001b[1;34m'<tablename>'\u001b[0m\u001b[1;33m,\u001b[0m \u001b[0mdb_session\u001b[0m\u001b[1;33m)\u001b[0m\u001b[1;33m\u001b[0m\u001b[1;33m\u001b[0m\u001b[0m\n\u001b[0m",
      "\u001b[1;32mE:\\Programs\\anaconda3\\envs\\mlenv\\lib\\site-packages\\pandas\\io\\sql.py\u001b[0m in \u001b[0;36mread_sql_table\u001b[1;34m(table_name, con, schema, index_col, coerce_float, parse_dates, columns, chunksize)\u001b[0m\n\u001b[0;32m    311\u001b[0m     \u001b[1;32mif\u001b[0m \u001b[1;32mnot\u001b[0m \u001b[0m_is_sqlalchemy_connectable\u001b[0m\u001b[1;33m(\u001b[0m\u001b[0mcon\u001b[0m\u001b[1;33m)\u001b[0m\u001b[1;33m:\u001b[0m\u001b[1;33m\u001b[0m\u001b[1;33m\u001b[0m\u001b[0m\n\u001b[0;32m    312\u001b[0m         raise NotImplementedError(\n\u001b[1;32m--> 313\u001b[1;33m             \u001b[1;34m\"read_sql_table only supported for SQLAlchemy connectable.\"\u001b[0m\u001b[1;33m\u001b[0m\u001b[1;33m\u001b[0m\u001b[0m\n\u001b[0m\u001b[0;32m    314\u001b[0m         )\n\u001b[0;32m    315\u001b[0m     \u001b[1;32mimport\u001b[0m \u001b[0msqlalchemy\u001b[0m\u001b[1;33m\u001b[0m\u001b[1;33m\u001b[0m\u001b[0m\n",
      "\u001b[1;31mNotImplementedError\u001b[0m: read_sql_table only supported for SQLAlchemy connectable."
     ]
    }
   ],
   "source": [
    "# Import and read data\n",
    "# combined_df = getfromdatabase{postres}\n",
    "\n",
    "from utils_common import get_db_session\n",
    "db_session = get_db_session()\n",
    "combined_df = pd.read_sql_table('<tablename>', db_session)"
   ]
  },
  {
   "cell_type": "code",
   "execution_count": null,
   "id": "50812cd7",
   "metadata": {},
   "outputs": [],
   "source": [
    "# Data is explored and scrubbed elsewhere."
   ]
  },
  {
   "cell_type": "code",
   "execution_count": 3,
   "id": "ed429545",
   "metadata": {},
   "outputs": [],
   "source": [
    "from utils_common import encode_dataframe"
   ]
  },
  {
   "cell_type": "code",
   "execution_count": null,
   "id": "2079b991",
   "metadata": {},
   "outputs": [],
   "source": [
    "combine_df = encode_dataframe(combined_df)\n",
    "combine_df.head()"
   ]
  },
  {
   "cell_type": "code",
   "execution_count": null,
   "id": "1c737f21",
   "metadata": {},
   "outputs": [],
   "source": []
  },
  {
   "cell_type": "code",
   "execution_count": 4,
   "id": "24955b5f",
   "metadata": {},
   "outputs": [],
   "source": [
    "# **************************************\n",
    "# Configuration Variables\n",
    "# **************************************\n",
    "\n",
    "# ******************\n",
    "# First Layer Configuration\n",
    "kS_nn_first_units       = 8\n",
    "kS_nn_first_activation  = \"relu\"\n",
    "\n",
    "# ******************\n",
    "# Output Layer Configuration\n",
    "kS_nn_output_units      = 1\n",
    "kS_nn_output_activation = \"sigmoid\"\n",
    "\n",
    "# ******************\n",
    "# Deep Learning Configuration\n",
    "kS_nn_deep_layers       = [\n",
    "    # Comment out the next two lines to disable \"deep learning\"\n",
    "    {\"units\": 16,\n",
    "     \"activation\": \"relu\"},\n",
    "\n",
    "    # Add more layers with\n",
    "    #    {\"units\": <units>,\n",
    "    #     \"activation\": <activation>},\n",
    "                     ]\n",
    "\n",
    "# ******************\n",
    "# Compiler Configuration\n",
    "kS_nn_compile_loss      = \"binary_crossentropy\"\n",
    "kS_nn_compile_optimizer = \"adam\"\n",
    "kS_nn_compile_metrics   = [\"accuracy\"]\n",
    "\n",
    "\n",
    "# ******************\n",
    "# Training Configuration\n",
    "kS_nn_train_epochs      = 100\n",
    "\n",
    "# ******************\n",
    "# Output File\n",
    "kS_nn_file              = \"kS-Enlistment_Prediction.h5\""
   ]
  },
  {
   "cell_type": "code",
   "execution_count": null,
   "id": "58b6e28d",
   "metadata": {},
   "outputs": [],
   "source": []
  }
 ],
 "metadata": {
  "kernelspec": {
   "display_name": "mlenv",
   "language": "python",
   "name": "mlenv"
  },
  "language_info": {
   "codemirror_mode": {
    "name": "ipython",
    "version": 3
   },
   "file_extension": ".py",
   "mimetype": "text/x-python",
   "name": "python",
   "nbconvert_exporter": "python",
   "pygments_lexer": "ipython3",
   "version": "3.7.11"
  }
 },
 "nbformat": 4,
 "nbformat_minor": 5
}
