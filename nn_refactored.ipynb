{
 "cells": [
  {
   "cell_type": "code",
   "execution_count": null,
   "id": "095f67f1",
   "metadata": {},
   "outputs": [],
   "source": [
    "\n"
   ]
  },
  {
   "cell_type": "code",
   "execution_count": 1,
   "id": "1e0461d3",
   "metadata": {},
   "outputs": [],
   "source": [
    "# Import dependencies\n",
    "import pandas as pd\n",
    "import os\n",
    "from sklearn.model_selection import train_test_split\n",
    "from sklearn.preprocessing import StandardScaler,OneHotEncoder\n",
    "from sklearn.linear_model import LinearRegression\n",
    "\n",
    "# **************************************\n",
    "# keras.models.Sequential()\n",
    "# **************************************\n",
    "# import tensorflow as tf\n",
    "# from tensorflow.kera.callbacks import ModelCheckpoint\n"
   ]
  },
  {
   "cell_type": "code",
   "execution_count": 3,
   "id": "ef1e741f",
   "metadata": {},
   "outputs": [],
   "source": [
    "# Import and read data\n",
    "# combined_df = getfromdatabase{postres}\n",
    "\n",
    "from utils_common import get_db_session\n",
    "db_session = get_db_session()\n",
    "combined_df = pd.read_sql_table('<tablename>', db_session)"
   ]
  },
  {
   "cell_type": "code",
   "execution_count": null,
   "id": "50812cd7",
   "metadata": {},
   "outputs": [],
   "source": [
    "# Data is explored and scrubbed elsewhere."
   ]
  },
  {
   "cell_type": "code",
   "execution_count": 3,
   "id": "ed429545",
   "metadata": {},
   "outputs": [],
   "source": [
    "from utils_common import encode_dataframe"
   ]
  },
  {
   "cell_type": "code",
   "execution_count": null,
   "id": "2079b991",
   "metadata": {},
   "outputs": [],
   "source": [
    "combine_df = encode_dataframe(combined_df)\n",
    "combine_df.head()"
   ]
  },
  {
   "cell_type": "code",
   "execution_count": null,
   "id": "1c737f21",
   "metadata": {},
   "outputs": [],
   "source": []
  },
  {
   "cell_type": "code",
   "execution_count": 4,
   "id": "24955b5f",
   "metadata": {},
   "outputs": [],
   "source": [
    "# **************************************\n",
    "# Configuration Variables\n",
    "# **************************************\n",
    "\n",
    "# ******************\n",
    "# First Layer Configuration\n",
    "kS_nn_first_units       = 8\n",
    "kS_nn_first_activation  = \"relu\"\n",
    "\n",
    "# ******************\n",
    "# Output Layer Configuration\n",
    "kS_nn_output_units      = 1\n",
    "kS_nn_output_activation = \"sigmoid\"\n",
    "\n",
    "# ******************\n",
    "# Deep Learning Configuration\n",
    "kS_nn_deep_layers       = [\n",
    "    # Comment out the next two lines to disable \"deep learning\"\n",
    "    {\"units\": 16,\n",
    "     \"activation\": \"relu\"},\n",
    "\n",
    "    # Add more layers with\n",
    "    #    {\"units\": <units>,\n",
    "    #     \"activation\": <activation>},\n",
    "                     ]\n",
    "\n",
    "# ******************\n",
    "# Compiler Configuration\n",
    "kS_nn_compile_loss      = \"binary_crossentropy\"\n",
    "kS_nn_compile_optimizer = \"adam\"\n",
    "kS_nn_compile_metrics   = [\"accuracy\"]\n",
    "\n",
    "\n",
    "# ******************\n",
    "# Training Configuration\n",
    "kS_nn_train_epochs      = 100\n",
    "\n",
    "# ******************\n",
    "# Output File\n",
    "kS_nn_file              = \"kS-Enlistment_Prediction.h5\""
   ]
  },
  {
   "cell_type": "code",
   "execution_count": null,
   "id": "58b6e28d",
   "metadata": {},
   "outputs": [],
   "source": []
  }
 ],
 "metadata": {
  "kernelspec": {
   "display_name": "mlenv",
   "language": "python",
   "name": "mlenv"
  },
  "language_info": {
   "codemirror_mode": {
    "name": "ipython",
    "version": 3
   },
   "file_extension": ".py",
   "mimetype": "text/x-python",
   "name": "python",
   "nbconvert_exporter": "python",
   "pygments_lexer": "ipython3",
   "version": "3.7.11"
  }
 },
 "nbformat": 4,
 "nbformat_minor": 5
}
