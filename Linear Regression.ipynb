{
 "cells": [
  {
   "cell_type": "code",
   "execution_count": 39,
   "id": "95807937",
   "metadata": {},
   "outputs": [],
   "source": [
    "# Import dependencies\n",
    "import pandas as pd\n",
    "import os\n",
    "import numpy as np\n",
    "from sklearn.model_selection import train_test_split\n",
    "from sklearn.preprocessing import StandardScaler,OneHotEncoder\n",
    "from sklearn.linear_model import LinearRegression\n",
    "from sklearn.linear_model import Lasso\n",
    "from sklearn.linear_model import Ridge\n",
    "from sklearn.metrics import r2_score\n",
    "from sklearn.metrics import mean_squared_error\n",
    "from sklearn.ensemble import RandomForestRegressor\n",
    "import matplotlib.pyplot as plt\n",
    "#from tensorflow.keras.callbacks import ModelCheckpoint\n",
    "from sqlalchemy.orm import Session\n",
    "from sqlalchemy import create_engine\n",
    "from config import pw_postgres"
   ]
  },
  {
   "cell_type": "code",
   "execution_count": 2,
   "id": "68a3cc36",
   "metadata": {},
   "outputs": [],
   "source": [
    "# Import and read data\n",
    "\n",
    "DB_PASS = pw_postgres\n",
    "aws_database = 'shrbfk-final-project.cuitpsvagrne.us-east-2.rds.amazonaws.com:5432'\n",
    "db_string = \"postgresql+psycopg2://postgres:\" + DB_PASS + \"@\" + aws_database + \"/vet_data\"\n",
    "try:\n",
    "    db_engine = create_engine(db_string)\n",
    "    \n",
    "except Exception as e:\n",
    "    print(f\"\\nFailed to create database connection to {aws_database}.\\n\", e)\n",
    "    exit()\n",
    "    \n",
    "combined_df = pd.read_sql_table('people_vet_join', db_engine)"
   ]
  },
  {
   "cell_type": "code",
   "execution_count": 3,
   "id": "676736c6",
   "metadata": {},
   "outputs": [
    {
     "data": {
      "text/html": [
       "<div>\n",
       "<style scoped>\n",
       "    .dataframe tbody tr th:only-of-type {\n",
       "        vertical-align: middle;\n",
       "    }\n",
       "\n",
       "    .dataframe tbody tr th {\n",
       "        vertical-align: top;\n",
       "    }\n",
       "\n",
       "    .dataframe thead th {\n",
       "        text-align: right;\n",
       "    }\n",
       "</style>\n",
       "<table border=\"1\" class=\"dataframe\">\n",
       "  <thead>\n",
       "    <tr style=\"text-align: right;\">\n",
       "      <th></th>\n",
       "      <th>FIPS</th>\n",
       "      <th>State</th>\n",
       "      <th>County</th>\n",
       "      <th>PopChangeRate1819</th>\n",
       "      <th>PopChangeRate1019</th>\n",
       "      <th>TotalPopEst2019</th>\n",
       "      <th>NetMigrationRate1019</th>\n",
       "      <th>NaturalChangeRate1019</th>\n",
       "      <th>Net_International_Migration_Rate_2010_2019</th>\n",
       "      <th>PopChangeRate0010</th>\n",
       "      <th>...</th>\n",
       "      <th>WhiteVetsPct</th>\n",
       "      <th>BlackVetsPct</th>\n",
       "      <th>HispanicVetsPct</th>\n",
       "      <th>OtherRaceVetsPct</th>\n",
       "      <th>LessThanHSVetsPct</th>\n",
       "      <th>HighSchOnlyVetsPct</th>\n",
       "      <th>SomeCollegeVetsPct</th>\n",
       "      <th>CollegeDegreeVetsPct</th>\n",
       "      <th>EmployeedVetsPct</th>\n",
       "      <th>UnemployeedVetsPct</th>\n",
       "    </tr>\n",
       "  </thead>\n",
       "  <tbody>\n",
       "    <tr>\n",
       "      <th>0</th>\n",
       "      <td>1000</td>\n",
       "      <td>AL</td>\n",
       "      <td>Alabama</td>\n",
       "      <td>0.317</td>\n",
       "      <td>2.461</td>\n",
       "      <td>4903185</td>\n",
       "      <td>1.059</td>\n",
       "      <td>1.402</td>\n",
       "      <td>0.809</td>\n",
       "      <td>7.48</td>\n",
       "      <td>...</td>\n",
       "      <td>72.534198</td>\n",
       "      <td>22.945607</td>\n",
       "      <td>2.022065</td>\n",
       "      <td>3.059596</td>\n",
       "      <td>6.396034</td>\n",
       "      <td>28.257189</td>\n",
       "      <td>37.385370</td>\n",
       "      <td>27.961408</td>\n",
       "      <td>71.330519</td>\n",
       "      <td>4.319786</td>\n",
       "    </tr>\n",
       "    <tr>\n",
       "      <th>1</th>\n",
       "      <td>1001</td>\n",
       "      <td>AL</td>\n",
       "      <td>Autauga</td>\n",
       "      <td>0.605</td>\n",
       "      <td>2.001</td>\n",
       "      <td>55869</td>\n",
       "      <td>0.686</td>\n",
       "      <td>1.315</td>\n",
       "      <td>-0.029</td>\n",
       "      <td>24.96</td>\n",
       "      <td>...</td>\n",
       "      <td>84.028832</td>\n",
       "      <td>9.673748</td>\n",
       "      <td>5.576631</td>\n",
       "      <td>1.119120</td>\n",
       "      <td>3.007812</td>\n",
       "      <td>20.859375</td>\n",
       "      <td>31.621094</td>\n",
       "      <td>44.511719</td>\n",
       "      <td>86.549340</td>\n",
       "      <td>3.558460</td>\n",
       "    </tr>\n",
       "    <tr>\n",
       "      <th>2</th>\n",
       "      <td>1003</td>\n",
       "      <td>AL</td>\n",
       "      <td>Baldwin</td>\n",
       "      <td>2.469</td>\n",
       "      <td>21.911</td>\n",
       "      <td>223234</td>\n",
       "      <td>21.001</td>\n",
       "      <td>0.910</td>\n",
       "      <td>0.714</td>\n",
       "      <td>29.80</td>\n",
       "      <td>...</td>\n",
       "      <td>90.621980</td>\n",
       "      <td>5.360321</td>\n",
       "      <td>1.439251</td>\n",
       "      <td>2.929360</td>\n",
       "      <td>3.612916</td>\n",
       "      <td>27.659792</td>\n",
       "      <td>36.676731</td>\n",
       "      <td>32.050560</td>\n",
       "      <td>74.927707</td>\n",
       "      <td>3.430532</td>\n",
       "    </tr>\n",
       "    <tr>\n",
       "      <th>3</th>\n",
       "      <td>1005</td>\n",
       "      <td>AL</td>\n",
       "      <td>Barbour</td>\n",
       "      <td>-0.748</td>\n",
       "      <td>-9.664</td>\n",
       "      <td>24686</td>\n",
       "      <td>-8.797</td>\n",
       "      <td>-0.867</td>\n",
       "      <td>0.161</td>\n",
       "      <td>-5.44</td>\n",
       "      <td>...</td>\n",
       "      <td>59.563253</td>\n",
       "      <td>37.349398</td>\n",
       "      <td>1.054217</td>\n",
       "      <td>3.087349</td>\n",
       "      <td>12.349398</td>\n",
       "      <td>39.834337</td>\n",
       "      <td>36.746988</td>\n",
       "      <td>11.069277</td>\n",
       "      <td>49.752066</td>\n",
       "      <td>9.966777</td>\n",
       "    </tr>\n",
       "    <tr>\n",
       "      <th>4</th>\n",
       "      <td>1007</td>\n",
       "      <td>AL</td>\n",
       "      <td>Bibb</td>\n",
       "      <td>0.121</td>\n",
       "      <td>-2.081</td>\n",
       "      <td>22394</td>\n",
       "      <td>-2.099</td>\n",
       "      <td>0.017</td>\n",
       "      <td>0.525</td>\n",
       "      <td>10.03</td>\n",
       "      <td>...</td>\n",
       "      <td>79.134682</td>\n",
       "      <td>18.492673</td>\n",
       "      <td>2.372645</td>\n",
       "      <td>0.000000</td>\n",
       "      <td>6.901510</td>\n",
       "      <td>54.708843</td>\n",
       "      <td>22.286125</td>\n",
       "      <td>16.103523</td>\n",
       "      <td>56.901408</td>\n",
       "      <td>0.000000</td>\n",
       "    </tr>\n",
       "  </tbody>\n",
       "</table>\n",
       "<p>5 rows × 105 columns</p>\n",
       "</div>"
      ],
      "text/plain": [
       "   FIPS State   County  PopChangeRate1819  PopChangeRate1019  TotalPopEst2019  \\\n",
       "0  1000    AL  Alabama              0.317              2.461          4903185   \n",
       "1  1001    AL  Autauga              0.605              2.001            55869   \n",
       "2  1003    AL  Baldwin              2.469             21.911           223234   \n",
       "3  1005    AL  Barbour             -0.748             -9.664            24686   \n",
       "4  1007    AL     Bibb              0.121             -2.081            22394   \n",
       "\n",
       "   NetMigrationRate1019  NaturalChangeRate1019  \\\n",
       "0                 1.059                  1.402   \n",
       "1                 0.686                  1.315   \n",
       "2                21.001                  0.910   \n",
       "3                -8.797                 -0.867   \n",
       "4                -2.099                  0.017   \n",
       "\n",
       "   Net_International_Migration_Rate_2010_2019  PopChangeRate0010  ...  \\\n",
       "0                                       0.809               7.48  ...   \n",
       "1                                      -0.029              24.96  ...   \n",
       "2                                       0.714              29.80  ...   \n",
       "3                                       0.161              -5.44  ...   \n",
       "4                                       0.525              10.03  ...   \n",
       "\n",
       "   WhiteVetsPct  BlackVetsPct  HispanicVetsPct  OtherRaceVetsPct  \\\n",
       "0     72.534198     22.945607         2.022065          3.059596   \n",
       "1     84.028832      9.673748         5.576631          1.119120   \n",
       "2     90.621980      5.360321         1.439251          2.929360   \n",
       "3     59.563253     37.349398         1.054217          3.087349   \n",
       "4     79.134682     18.492673         2.372645          0.000000   \n",
       "\n",
       "   LessThanHSVetsPct  HighSchOnlyVetsPct  SomeCollegeVetsPct  \\\n",
       "0           6.396034           28.257189           37.385370   \n",
       "1           3.007812           20.859375           31.621094   \n",
       "2           3.612916           27.659792           36.676731   \n",
       "3          12.349398           39.834337           36.746988   \n",
       "4           6.901510           54.708843           22.286125   \n",
       "\n",
       "   CollegeDegreeVetsPct  EmployeedVetsPct  UnemployeedVetsPct  \n",
       "0             27.961408         71.330519            4.319786  \n",
       "1             44.511719         86.549340            3.558460  \n",
       "2             32.050560         74.927707            3.430532  \n",
       "3             11.069277         49.752066            9.966777  \n",
       "4             16.103523         56.901408            0.000000  \n",
       "\n",
       "[5 rows x 105 columns]"
      ]
     },
     "execution_count": 3,
     "metadata": {},
     "output_type": "execute_result"
    }
   ],
   "source": [
    "combined_df.head()"
   ]
  },
  {
   "cell_type": "code",
   "execution_count": 4,
   "id": "9e58a543",
   "metadata": {},
   "outputs": [],
   "source": [
    "df_labels = combined_df[['State', 'County']]\n",
    "combined_df = combined_df.drop(columns=['FIPS', 'State', 'County'])\n",
    "#combined_df = combined_df.drop"
   ]
  },
  {
   "cell_type": "code",
   "execution_count": 6,
   "id": "106083ef",
   "metadata": {},
   "outputs": [],
   "source": [
    "combined_df = combined_df.drop([0,68,102,118,194,253,318,331,333,401,561,567,612,715,808,908,1014,\n",
    "               1135,1200,1217,1242,1257,1341,1429,1512,1628,1685,1779,1797,1808,1830,\n",
    "               1864,1927,2028,2082,2171,2249,2286,2354,2360,2407,2474,2570,2825,\n",
    "               2855,2870,3005,3045,3101,3174])"
   ]
  },
  {
   "cell_type": "code",
   "execution_count": 7,
   "id": "eb841f46",
   "metadata": {},
   "outputs": [
    {
     "data": {
      "text/html": [
       "<div>\n",
       "<style scoped>\n",
       "    .dataframe tbody tr th:only-of-type {\n",
       "        vertical-align: middle;\n",
       "    }\n",
       "\n",
       "    .dataframe tbody tr th {\n",
       "        vertical-align: top;\n",
       "    }\n",
       "\n",
       "    .dataframe thead th {\n",
       "        text-align: right;\n",
       "    }\n",
       "</style>\n",
       "<table border=\"1\" class=\"dataframe\">\n",
       "  <thead>\n",
       "    <tr style=\"text-align: right;\">\n",
       "      <th></th>\n",
       "      <th>PopChangeRate1819</th>\n",
       "      <th>PopChangeRate1019</th>\n",
       "      <th>TotalPopEst2019</th>\n",
       "      <th>NetMigrationRate1019</th>\n",
       "      <th>NaturalChangeRate1019</th>\n",
       "      <th>Net_International_Migration_Rate_2010_2019</th>\n",
       "      <th>PopChangeRate0010</th>\n",
       "      <th>NetMigrationRate0010</th>\n",
       "      <th>NaturalChangeRate0010</th>\n",
       "      <th>Immigration_Rate_2000_2010</th>\n",
       "      <th>...</th>\n",
       "      <th>WhiteVetsPct</th>\n",
       "      <th>BlackVetsPct</th>\n",
       "      <th>HispanicVetsPct</th>\n",
       "      <th>OtherRaceVetsPct</th>\n",
       "      <th>LessThanHSVetsPct</th>\n",
       "      <th>HighSchOnlyVetsPct</th>\n",
       "      <th>SomeCollegeVetsPct</th>\n",
       "      <th>CollegeDegreeVetsPct</th>\n",
       "      <th>EmployeedVetsPct</th>\n",
       "      <th>UnemployeedVetsPct</th>\n",
       "    </tr>\n",
       "  </thead>\n",
       "  <tbody>\n",
       "    <tr>\n",
       "      <th>1</th>\n",
       "      <td>0.605</td>\n",
       "      <td>2.001</td>\n",
       "      <td>55869</td>\n",
       "      <td>0.686</td>\n",
       "      <td>1.315</td>\n",
       "      <td>-0.029</td>\n",
       "      <td>24.96</td>\n",
       "      <td>11.87</td>\n",
       "      <td>5.46</td>\n",
       "      <td>-0.010222</td>\n",
       "      <td>...</td>\n",
       "      <td>84.028832</td>\n",
       "      <td>9.673748</td>\n",
       "      <td>5.576631</td>\n",
       "      <td>1.119120</td>\n",
       "      <td>3.007812</td>\n",
       "      <td>20.859375</td>\n",
       "      <td>31.621094</td>\n",
       "      <td>44.511719</td>\n",
       "      <td>86.549340</td>\n",
       "      <td>3.558460</td>\n",
       "    </tr>\n",
       "    <tr>\n",
       "      <th>2</th>\n",
       "      <td>2.469</td>\n",
       "      <td>21.911</td>\n",
       "      <td>223234</td>\n",
       "      <td>21.001</td>\n",
       "      <td>0.910</td>\n",
       "      <td>0.714</td>\n",
       "      <td>29.80</td>\n",
       "      <td>26.17</td>\n",
       "      <td>3.32</td>\n",
       "      <td>1.584455</td>\n",
       "      <td>...</td>\n",
       "      <td>90.621980</td>\n",
       "      <td>5.360321</td>\n",
       "      <td>1.439251</td>\n",
       "      <td>2.929360</td>\n",
       "      <td>3.612916</td>\n",
       "      <td>27.659792</td>\n",
       "      <td>36.676731</td>\n",
       "      <td>32.050560</td>\n",
       "      <td>74.927707</td>\n",
       "      <td>3.430532</td>\n",
       "    </tr>\n",
       "    <tr>\n",
       "      <th>3</th>\n",
       "      <td>-0.748</td>\n",
       "      <td>-9.664</td>\n",
       "      <td>24686</td>\n",
       "      <td>-8.797</td>\n",
       "      <td>-0.867</td>\n",
       "      <td>0.161</td>\n",
       "      <td>-5.44</td>\n",
       "      <td>-4.80</td>\n",
       "      <td>2.29</td>\n",
       "      <td>1.828365</td>\n",
       "      <td>...</td>\n",
       "      <td>59.563253</td>\n",
       "      <td>37.349398</td>\n",
       "      <td>1.054217</td>\n",
       "      <td>3.087349</td>\n",
       "      <td>12.349398</td>\n",
       "      <td>39.834337</td>\n",
       "      <td>36.746988</td>\n",
       "      <td>11.069277</td>\n",
       "      <td>49.752066</td>\n",
       "      <td>9.966777</td>\n",
       "    </tr>\n",
       "    <tr>\n",
       "      <th>4</th>\n",
       "      <td>0.121</td>\n",
       "      <td>-2.081</td>\n",
       "      <td>22394</td>\n",
       "      <td>-2.099</td>\n",
       "      <td>0.017</td>\n",
       "      <td>0.525</td>\n",
       "      <td>10.03</td>\n",
       "      <td>6.43</td>\n",
       "      <td>2.10</td>\n",
       "      <td>0.341485</td>\n",
       "      <td>...</td>\n",
       "      <td>79.134682</td>\n",
       "      <td>18.492673</td>\n",
       "      <td>2.372645</td>\n",
       "      <td>0.000000</td>\n",
       "      <td>6.901510</td>\n",
       "      <td>54.708843</td>\n",
       "      <td>22.286125</td>\n",
       "      <td>16.103523</td>\n",
       "      <td>56.901408</td>\n",
       "      <td>0.000000</td>\n",
       "    </tr>\n",
       "    <tr>\n",
       "      <th>5</th>\n",
       "      <td>0.095</td>\n",
       "      <td>0.784</td>\n",
       "      <td>57826</td>\n",
       "      <td>-0.005</td>\n",
       "      <td>0.790</td>\n",
       "      <td>0.207</td>\n",
       "      <td>12.34</td>\n",
       "      <td>12.27</td>\n",
       "      <td>3.14</td>\n",
       "      <td>2.077015</td>\n",
       "      <td>...</td>\n",
       "      <td>94.293240</td>\n",
       "      <td>1.287679</td>\n",
       "      <td>2.985075</td>\n",
       "      <td>2.985075</td>\n",
       "      <td>11.655901</td>\n",
       "      <td>33.734586</td>\n",
       "      <td>38.667058</td>\n",
       "      <td>15.942454</td>\n",
       "      <td>64.528302</td>\n",
       "      <td>7.309942</td>\n",
       "    </tr>\n",
       "  </tbody>\n",
       "</table>\n",
       "<p>5 rows × 102 columns</p>\n",
       "</div>"
      ],
      "text/plain": [
       "   PopChangeRate1819  PopChangeRate1019  TotalPopEst2019  \\\n",
       "1              0.605              2.001            55869   \n",
       "2              2.469             21.911           223234   \n",
       "3             -0.748             -9.664            24686   \n",
       "4              0.121             -2.081            22394   \n",
       "5              0.095              0.784            57826   \n",
       "\n",
       "   NetMigrationRate1019  NaturalChangeRate1019  \\\n",
       "1                 0.686                  1.315   \n",
       "2                21.001                  0.910   \n",
       "3                -8.797                 -0.867   \n",
       "4                -2.099                  0.017   \n",
       "5                -0.005                  0.790   \n",
       "\n",
       "   Net_International_Migration_Rate_2010_2019  PopChangeRate0010  \\\n",
       "1                                      -0.029              24.96   \n",
       "2                                       0.714              29.80   \n",
       "3                                       0.161              -5.44   \n",
       "4                                       0.525              10.03   \n",
       "5                                       0.207              12.34   \n",
       "\n",
       "   NetMigrationRate0010  NaturalChangeRate0010  Immigration_Rate_2000_2010  \\\n",
       "1                 11.87                   5.46                   -0.010222   \n",
       "2                 26.17                   3.32                    1.584455   \n",
       "3                 -4.80                   2.29                    1.828365   \n",
       "4                  6.43                   2.10                    0.341485   \n",
       "5                 12.27                   3.14                    2.077015   \n",
       "\n",
       "   ...  WhiteVetsPct  BlackVetsPct  HispanicVetsPct  OtherRaceVetsPct  \\\n",
       "1  ...     84.028832      9.673748         5.576631          1.119120   \n",
       "2  ...     90.621980      5.360321         1.439251          2.929360   \n",
       "3  ...     59.563253     37.349398         1.054217          3.087349   \n",
       "4  ...     79.134682     18.492673         2.372645          0.000000   \n",
       "5  ...     94.293240      1.287679         2.985075          2.985075   \n",
       "\n",
       "   LessThanHSVetsPct  HighSchOnlyVetsPct  SomeCollegeVetsPct  \\\n",
       "1           3.007812           20.859375           31.621094   \n",
       "2           3.612916           27.659792           36.676731   \n",
       "3          12.349398           39.834337           36.746988   \n",
       "4           6.901510           54.708843           22.286125   \n",
       "5          11.655901           33.734586           38.667058   \n",
       "\n",
       "   CollegeDegreeVetsPct  EmployeedVetsPct  UnemployeedVetsPct  \n",
       "1             44.511719         86.549340            3.558460  \n",
       "2             32.050560         74.927707            3.430532  \n",
       "3             11.069277         49.752066            9.966777  \n",
       "4             16.103523         56.901408            0.000000  \n",
       "5             15.942454         64.528302            7.309942  \n",
       "\n",
       "[5 rows x 102 columns]"
      ]
     },
     "execution_count": 7,
     "metadata": {},
     "output_type": "execute_result"
    }
   ],
   "source": [
    "# Drop non-helpful columns(if there are any)\n",
    "#combined_df.drop(columns=['columnname1', 'columnname2'], axis=1, inplace=True)\n",
    "combined_df.head()"
   ]
  },
  {
   "cell_type": "code",
   "execution_count": 8,
   "id": "aaac77c4",
   "metadata": {},
   "outputs": [],
   "source": [
    "combined_df.dropna(inplace=True)"
   ]
  },
  {
   "cell_type": "code",
   "execution_count": 32,
   "id": "d551c242",
   "metadata": {},
   "outputs": [],
   "source": [
    "# Split into features and target arrays\n",
    "y = combined_df['TotalVets'].values\n",
    "X = combined_df.drop(['TotalVets'],1).values"
   ]
  },
  {
   "cell_type": "code",
   "execution_count": 10,
   "id": "de250d2a",
   "metadata": {},
   "outputs": [
    {
     "data": {
      "text/plain": [
       "3073"
      ]
     },
     "execution_count": 10,
     "metadata": {},
     "output_type": "execute_result"
    }
   ],
   "source": [
    "len(X)"
   ]
  },
  {
   "cell_type": "code",
   "execution_count": 11,
   "id": "86ff5b43",
   "metadata": {},
   "outputs": [
    {
     "data": {
      "text/plain": [
       "3073"
      ]
     },
     "execution_count": 11,
     "metadata": {},
     "output_type": "execute_result"
    }
   ],
   "source": [
    "len(y)"
   ]
  },
  {
   "cell_type": "code",
   "execution_count": 26,
   "id": "6ea2b8ef",
   "metadata": {},
   "outputs": [
    {
     "data": {
      "image/png": "[encoded data removed]",
      "text/plain": [
       "<Figure size 432x288 with 1 Axes>"
      ]
     },
     "metadata": {
      "needs_background": "light"
     },
     "output_type": "display_data"
    }
   ],
   "source": [
    "plt.scatter(X, y)\n",
    "plt.show()"
   ]
  },
  {
   "cell_type": "code",
   "execution_count": null,
   "id": "cbb7a6f6",
   "metadata": {},
   "outputs": [],
   "source": [
    "# check for infinite values-False for infinite values\n",
    "np.isfinite(combined_df)"
   ]
  },
  {
   "cell_type": "code",
   "execution_count": null,
   "id": "293845a8",
   "metadata": {},
   "outputs": [],
   "source": [
    "combined_df = combined_df.dropna()"
   ]
  },
  {
   "cell_type": "code",
   "execution_count": null,
   "id": "13e81178",
   "metadata": {},
   "outputs": [],
   "source": [
    " #from sklearn.impute import SimpleImputer\n",
    "#transformer = SimpleImputer(strategy='median')\n",
    "#transformer.fit(X,y)"
   ]
  },
  {
   "cell_type": "code",
   "execution_count": 13,
   "id": "334dfbcc",
   "metadata": {},
   "outputs": [
    {
     "name": "stdout",
     "output_type": "stream",
     "text": [
      "LinearRegression()\n"
     ]
    }
   ],
   "source": [
    "lin_reg = LinearRegression()\n",
    "lin_reg.fit(X, y)\n",
    "print(lin_reg)"
   ]
  },
  {
   "cell_type": "code",
   "execution_count": 33,
   "id": "9cb894aa",
   "metadata": {},
   "outputs": [],
   "source": [
    "# Split preprocessed data into a training and testing dataset\n",
    "X_train, X_test, y_train, y_test = train_test_split( X, y, random_state=42)"
   ]
  },
  {
   "cell_type": "code",
   "execution_count": 34,
   "id": "80b5f3fd",
   "metadata": {},
   "outputs": [],
   "source": [
    "# Create a StandardScaler instance\n",
    "scaler = StandardScaler()\n",
    "\n",
    "# Fit the StandardScaler\n",
    "X_scaler = scaler.fit(X_train)\n",
    "\n",
    "# Scale the data\n",
    "X_train_scaled = X_scaler.transform(X_train)\n",
    "X_test_scaled = X_scaler.transform(X_test)"
   ]
  },
  {
   "cell_type": "code",
   "execution_count": 35,
   "id": "49b80c12",
   "metadata": {},
   "outputs": [
    {
     "data": {
      "text/plain": [
       "array([[ 0.2951165 ,  0.65048522, -0.14118529, ...,  1.99336862,\n",
       "         0.89300648,  0.71348418],\n",
       "       [ 0.02850764,  0.21536787, -0.13994579, ..., -0.76741802,\n",
       "         0.44777306,  0.78743302],\n",
       "       [-2.51927335, -1.33102864, -0.15359708, ..., -0.29951532,\n",
       "        -1.83759152, -0.78734949],\n",
       "       ...,\n",
       "       [ 0.75001788,  0.98638939, -0.05318423, ..., -0.28673915,\n",
       "         1.04501186, -0.22625812],\n",
       "       [ 0.43425301, -0.63642188, -0.15477456, ..., -0.69628788,\n",
       "        -0.84904017,  0.95152914],\n",
       "       [ 0.05350222, -0.82568304, -0.15352894, ..., -0.89895441,\n",
       "         0.98687687,  0.34693442]])"
      ]
     },
     "execution_count": 35,
     "metadata": {},
     "output_type": "execute_result"
    }
   ],
   "source": [
    "X_train_scaled"
   ]
  },
  {
   "cell_type": "code",
   "execution_count": 38,
   "id": "6bb27fab",
   "metadata": {},
   "outputs": [
    {
     "name": "stdout",
     "output_type": "stream",
     "text": [
      "27648.70193366979\n"
     ]
    }
   ],
   "source": [
    "# Fit the model\n",
    "lin_reg = LinearRegression()\n",
    "lin_reg.fit(X_train_scaled, y_train)\n",
    "lin_reg_y_pred = lin_reg.predict(X_test_scaled)\n",
    "mse = mean_squared_error(y_test, lin_reg_y_pred)\n",
    "rmse = np.sqrt(mse)\n",
    "print(rmse)\n",
    "#print(mse)"
   ]
  },
  {
   "cell_type": "code",
   "execution_count": 40,
   "id": "455d1a37",
   "metadata": {},
   "outputs": [
    {
     "data": {
      "text/plain": [
       "0.8772430235074382"
      ]
     },
     "execution_count": 40,
     "metadata": {},
     "output_type": "execute_result"
    }
   ],
   "source": [
    "r2_score(y_test, lin_reg_y_pred)"
   ]
  },
  {
   "cell_type": "code",
   "execution_count": 48,
   "id": "2af40ea2",
   "metadata": {},
   "outputs": [
    {
     "data": {
      "image/png": "[encoded data removed]",
      "text/plain": [
       "<Figure size 432x288 with 1 Axes>"
      ]
     },
     "metadata": {
      "needs_background": "light"
     },
     "output_type": "display_data"
    }
   ],
   "source": [
    "plt.hist(y, 10, range=[0,15000])\n",
    "plt.show()"
   ]
  },
  {
   "cell_type": "code",
   "execution_count": null,
   "id": "b7290f45",
   "metadata": {},
   "outputs": [],
   "source": [
    "#STOP HERE "
   ]
  },
  {
   "cell_type": "code",
   "execution_count": 28,
   "id": "f8e7d5dd",
   "metadata": {},
   "outputs": [
    {
     "data": {
      "text/plain": [
       "array([1.208000e+03, 5.140000e+02, 4.748400e+04, 9.684000e+03,\n",
       "       1.254000e+03, 1.796700e+04, 8.254000e+03, 3.306000e+03,\n",
       "       1.169100e+04, 8.420000e+02, 9.350000e+02, 3.077000e+03,\n",
       "       1.488200e+04, 3.313400e+05, 6.840000e+02, 4.870000e+02,\n",
       "       6.260000e+02, 1.971380e+05, 5.340000e+02, 2.970000e+02,\n",
       "       2.883000e+03, 9.550000e+02, 4.423000e+03, 2.736000e+03,\n",
       "       3.780000e+02, 3.020000e+02, 1.317100e+04, 5.090000e+02,\n",
       "       9.620000e+03, 1.092000e+03, 5.810000e+02, 4.037000e+03,\n",
       "       5.850000e+03, 2.522000e+03, 8.300000e+02, 2.305000e+03,\n",
       "       4.389000e+03, 1.743800e+04, 1.688000e+03, 1.886000e+03,\n",
       "       7.090000e+02, 3.931000e+03, 6.340000e+02, 1.745000e+03,\n",
       "       3.233000e+03, 1.387000e+03, 1.216000e+03, 1.855000e+03,\n",
       "       2.161000e+03, 4.218000e+03, 6.930000e+02, 1.241000e+03,\n",
       "       3.882000e+03, 3.070000e+02, 3.520000e+02, 1.548000e+03,\n",
       "       5.930000e+03, 5.210000e+02, 8.727000e+03, 6.545000e+03,\n",
       "       9.715000e+03, 5.492000e+03, 1.431000e+03, 7.465000e+03,\n",
       "       1.134000e+03, 8.980000e+02, 3.284000e+04, 3.281300e+04,\n",
       "       3.920000e+02, 5.659800e+04, 1.889000e+03, 7.800000e+02,\n",
       "       1.587000e+03, 2.953400e+04, 7.490000e+02, 2.017200e+04,\n",
       "       1.690000e+02, 1.613200e+04, 3.612500e+04, 1.343600e+04,\n",
       "       2.180000e+02, 3.145900e+04, 3.387000e+03, 1.295000e+03,\n",
       "       1.704000e+03, 4.860000e+02, 7.510000e+02, 7.091000e+03,\n",
       "       1.095600e+04, 1.415000e+03, 8.270000e+02, 2.029700e+04,\n",
       "       3.939300e+04, 4.180000e+02, 7.080000e+02, 2.540200e+04,\n",
       "       9.970000e+02, 3.970000e+02, 1.572000e+03, 1.369700e+04,\n",
       "       1.696000e+03, 4.050000e+02, 2.980000e+03, 9.060000e+02,\n",
       "       1.532000e+03, 2.930000e+02, 1.229000e+03, 1.606000e+03,\n",
       "       2.333000e+03, 6.284000e+03, 4.170000e+02, 3.847000e+03,\n",
       "       4.280000e+03, 1.158000e+03, 1.840400e+04, 5.180000e+02,\n",
       "       5.272000e+03, 7.940000e+02, 5.350000e+02, 1.799000e+03,\n",
       "       7.500000e+01, 1.676700e+04, 1.704000e+03, 4.666000e+03,\n",
       "       9.620000e+02, 4.528000e+03, 3.037000e+03, 8.340000e+02,\n",
       "       1.482000e+03, 3.640000e+02, 8.090000e+02, 2.891000e+03,\n",
       "       6.970000e+02, 2.526000e+03, 2.896000e+03, 3.200000e+02,\n",
       "       2.769000e+03, 8.434300e+04, 1.895000e+03, 8.210000e+02,\n",
       "       2.399000e+03, 2.608000e+03, 4.963000e+03, 6.290000e+02,\n",
       "       4.400000e+02, 1.526000e+03, 2.480000e+02, 3.870000e+02,\n",
       "       2.707000e+03, 2.114000e+03, 3.881000e+03, 2.100500e+04,\n",
       "       3.806900e+05, 3.630000e+02, 7.980000e+02, 1.049000e+03,\n",
       "       3.930000e+02, 3.860000e+02, 8.620000e+02, 4.407000e+03,\n",
       "       2.206000e+03, 4.819000e+03, 1.609000e+03, 1.498000e+03,\n",
       "       1.538900e+04, 4.960000e+02, 7.760000e+03, 8.520000e+02,\n",
       "       1.577000e+03, 2.160000e+03, 2.104000e+03, 6.620000e+02,\n",
       "       4.324000e+03, 2.563000e+03, 6.850000e+02, 6.543600e+04,\n",
       "       1.091700e+04, 1.297500e+04, 1.360000e+02, 7.092870e+05,\n",
       "       5.340000e+02, 1.717000e+03, 9.460000e+02, 5.688000e+03,\n",
       "       3.974200e+04, 6.623000e+03, 8.710000e+02, 5.647000e+03,\n",
       "       6.110000e+02, 1.061000e+03, 2.258000e+03, 4.010000e+02,\n",
       "       8.510000e+02, 3.230000e+02, 9.880000e+02, 6.640000e+02,\n",
       "       1.718900e+04, 2.755800e+04, 1.322000e+03, 1.256900e+04,\n",
       "       2.592000e+03, 3.870000e+02, 6.291000e+03, 1.032000e+03,\n",
       "       4.990000e+02, 1.350000e+02, 1.013000e+03, 5.439000e+03,\n",
       "       6.380000e+02, 1.992000e+03, 1.826000e+03, 1.223080e+05,\n",
       "       1.735400e+04, 1.380000e+02, 2.565000e+03, 2.218000e+03,\n",
       "       1.196000e+04, 1.430600e+04, 8.260000e+02, 1.637400e+04,\n",
       "       1.788000e+03, 2.414000e+03, 5.520000e+02, 1.890000e+03,\n",
       "       7.910000e+02, 1.138000e+03, 7.921000e+03, 7.969000e+03,\n",
       "       5.460000e+02, 1.361000e+03, 2.309000e+03, 3.630000e+02,\n",
       "       1.984000e+03, 9.410000e+03, 9.080000e+02, 4.788100e+04,\n",
       "       2.683200e+04, 3.079000e+03, 2.898000e+03, 5.660000e+02,\n",
       "       9.810000e+02, 2.396000e+03, 2.139000e+03, 2.276000e+03,\n",
       "       4.049000e+03, 2.384000e+03, 6.890000e+02, 1.236300e+04,\n",
       "       1.657000e+03, 2.202000e+03, 7.490000e+02, 6.740000e+02,\n",
       "       1.017000e+03, 7.060000e+02, 6.594000e+03, 1.134000e+03,\n",
       "       7.564000e+03, 1.204470e+05, 3.450000e+03, 2.490000e+02,\n",
       "       7.300000e+02, 5.360000e+02, 1.623000e+03, 3.730000e+02,\n",
       "       7.137000e+03, 4.510000e+02, 1.440000e+02, 5.520000e+02,\n",
       "       2.030000e+02, 8.350000e+02, 1.080000e+02, 5.671000e+03,\n",
       "       1.127000e+03, 1.851000e+03, 1.275000e+03, 1.022000e+03,\n",
       "       5.298000e+03, 7.119000e+03, 5.130000e+02, 4.950000e+02,\n",
       "       5.650000e+03, 1.850000e+02, 1.222000e+03, 2.358000e+03,\n",
       "       1.689600e+04, 1.353000e+03, 7.520000e+02, 1.010000e+02,\n",
       "       4.149000e+03, 3.274000e+03, 1.386000e+03, 3.189000e+03,\n",
       "       1.890000e+03, 4.692000e+03, 7.640000e+02, 3.183800e+04,\n",
       "       2.438300e+04, 3.350000e+03, 3.841000e+04, 1.342000e+03,\n",
       "       2.028000e+03, 1.056000e+04, 7.370000e+02, 9.830000e+02,\n",
       "       2.449000e+03, 7.590000e+02, 8.500000e+02, 9.030000e+02,\n",
       "       7.734000e+03, 1.073000e+03, 4.634000e+03, 3.370000e+02,\n",
       "       2.800000e+02, 2.569000e+03, 1.526000e+03, 1.528000e+03,\n",
       "       4.870000e+02, 4.560000e+02, 1.082000e+03, 2.970000e+02,\n",
       "       5.650000e+02, 1.756000e+03, 3.140000e+02, 6.670000e+02,\n",
       "       1.050000e+03, 2.120000e+03, 4.680000e+02, 9.980000e+02,\n",
       "       1.304000e+03, 3.280000e+02, 5.590000e+02, 9.340000e+02,\n",
       "       1.700000e+02, 5.530000e+02, 2.351000e+03, 4.491000e+03,\n",
       "       1.028600e+04, 6.719000e+03, 9.290000e+02, 5.728000e+03,\n",
       "       1.085000e+03, 7.449000e+03, 1.524700e+04, 3.194000e+03,\n",
       "       1.140000e+02, 8.982000e+03, 5.820000e+02, 7.374000e+03,\n",
       "       1.260000e+02, 5.490000e+02, 1.950000e+03, 5.055000e+03,\n",
       "       8.268000e+03, 7.390000e+02, 7.580000e+02, 1.045900e+04,\n",
       "       3.610000e+02, 2.382000e+03, 5.294000e+03, 2.979100e+04,\n",
       "       1.784000e+03, 2.238000e+03, 1.325000e+03, 3.842700e+04,\n",
       "       3.361200e+04, 6.160000e+02, 1.966000e+03, 6.470000e+02,\n",
       "       5.590000e+02, 2.317000e+03, 5.370000e+02, 1.680000e+02,\n",
       "       7.850000e+02, 2.051000e+03, 4.166000e+03, 5.000000e+02,\n",
       "       1.019750e+05, 2.800000e+01, 1.130500e+04, 9.710000e+02,\n",
       "       1.449770e+05, 2.126000e+03, 3.975000e+03, 1.762800e+04,\n",
       "       3.219000e+03, 1.351000e+03, 3.498000e+03, 4.210000e+02,\n",
       "       3.454000e+03, 4.134500e+04, 1.400900e+04, 1.850000e+02,\n",
       "       2.158000e+03, 9.488000e+03, 4.162000e+03, 1.607400e+04,\n",
       "       1.901000e+03, 1.276500e+04, 7.450000e+02, 8.228300e+04,\n",
       "       2.450400e+04, 2.620000e+02, 5.200000e+02, 3.714000e+03,\n",
       "       6.541000e+03, 1.150000e+02, 2.968000e+03, 2.431000e+03,\n",
       "       1.799000e+03, 2.045000e+03, 6.259000e+03, 3.914900e+04,\n",
       "       3.937000e+04, 2.790600e+04, 1.811300e+04, 2.930000e+02,\n",
       "       8.730000e+02, 2.706000e+03, 6.105000e+03, 2.170400e+04,\n",
       "       1.990000e+03, 1.316800e+04, 2.936600e+04, 5.580000e+02,\n",
       "       9.270000e+02, 2.697000e+03, 1.093000e+03, 1.161000e+03,\n",
       "       3.225000e+03, 9.646000e+03, 1.753000e+03, 3.077000e+03,\n",
       "       9.522000e+03, 3.511000e+03, 3.744000e+03, 1.537000e+03,\n",
       "       4.660000e+02, 9.130000e+02, 2.200000e+01, 1.071700e+04,\n",
       "       3.350000e+02, 1.643000e+03, 3.056000e+03, 6.370000e+02,\n",
       "       5.170000e+02, 1.124500e+04, 7.594740e+05, 1.915700e+04,\n",
       "       2.392000e+03, 2.473000e+03, 2.840000e+02, 3.610000e+03,\n",
       "       1.115000e+03, 1.352000e+03, 8.169000e+03, 4.070000e+02,\n",
       "       3.302900e+04, 2.388000e+03, 1.141000e+03, 3.820000e+02,\n",
       "       7.420000e+02, 1.563000e+03, 9.400000e+02, 3.260000e+02,\n",
       "       3.127000e+03, 7.760000e+02, 8.231000e+03, 3.690000e+03,\n",
       "       9.400000e+01, 1.033000e+03, 6.310000e+02, 5.251000e+03,\n",
       "       8.030000e+02, 1.402000e+03, 7.990000e+03, 5.817000e+03,\n",
       "       6.650000e+02, 1.002100e+04, 1.536000e+03, 2.684000e+03,\n",
       "       6.144000e+03, 3.096000e+03, 1.221500e+04, 1.440338e+06,\n",
       "       5.126900e+04, 1.167000e+03, 4.820000e+02, 1.261000e+03,\n",
       "       9.990000e+02, 4.323000e+03, 1.409000e+03, 4.340000e+02,\n",
       "       1.837400e+04, 8.090000e+02, 3.270000e+02, 1.908000e+03,\n",
       "       1.728000e+03, 1.009000e+03, 4.144000e+03, 3.546000e+03,\n",
       "       5.160000e+02, 2.312000e+03, 1.070000e+03, 2.944000e+03,\n",
       "       1.826000e+03, 6.917000e+03, 2.591000e+03, 2.578000e+03,\n",
       "       3.841000e+03, 4.298000e+03, 8.207000e+03, 6.385000e+03,\n",
       "       2.590000e+02, 5.956000e+03, 2.205000e+03, 5.190000e+03,\n",
       "       3.130000e+02, 3.109000e+03, 9.340000e+02, 2.325000e+03,\n",
       "       9.829000e+03, 5.530000e+02, 2.293000e+03, 1.396000e+03,\n",
       "       6.250000e+03, 9.640000e+02, 4.312740e+05, 9.250000e+02,\n",
       "       2.434000e+03, 1.949000e+03, 2.237000e+03, 5.136100e+04,\n",
       "       5.200400e+04, 5.755000e+04, 2.133300e+04, 8.389400e+04,\n",
       "       2.498000e+03, 1.363600e+04, 5.820000e+02, 2.101000e+03,\n",
       "       8.200000e+02, 2.437400e+04, 3.713600e+04, 1.330000e+03,\n",
       "       1.880000e+02, 5.793000e+03, 6.750000e+02, 3.360000e+02,\n",
       "       5.560000e+02, 1.270000e+03, 1.292000e+03, 6.670000e+02,\n",
       "       1.345000e+03, 4.880610e+05, 8.560000e+02, 4.360000e+02,\n",
       "       6.670000e+02, 4.700000e+03, 3.561000e+03, 9.236000e+03,\n",
       "       4.516000e+03, 2.347000e+03, 1.019750e+05, 3.730000e+02,\n",
       "       2.180000e+02, 2.666000e+03, 2.147000e+03, 4.340000e+02,\n",
       "       9.960000e+02, 4.350000e+02, 9.508000e+03, 2.996000e+03,\n",
       "       1.560000e+05, 2.910000e+02, 5.867000e+04, 6.450000e+02,\n",
       "       1.101000e+04, 5.147200e+04, 5.084000e+03, 1.852000e+03,\n",
       "       7.792000e+03, 4.213900e+04, 5.470000e+02, 1.408500e+04,\n",
       "       4.930000e+02, 1.390000e+02, 3.060000e+03, 9.801000e+03,\n",
       "       3.283000e+03, 1.164500e+04, 4.783000e+03, 2.749000e+03,\n",
       "       1.151000e+03, 2.689000e+03, 1.920000e+02, 3.628900e+04,\n",
       "       7.080000e+02, 1.237000e+03, 2.624000e+03, 9.184000e+03,\n",
       "       7.000000e+01, 1.264000e+03, 2.003000e+03, 7.770000e+02,\n",
       "       1.242000e+03, 6.820000e+02, 2.080000e+02, 9.900000e+02,\n",
       "       3.839000e+03, 3.102000e+03, 1.307000e+03, 7.585000e+03,\n",
       "       5.240000e+02, 4.977000e+03, 2.502700e+04, 4.177600e+04,\n",
       "       5.760000e+02, 8.160000e+02, 1.240000e+03, 4.414000e+03,\n",
       "       1.453400e+04, 1.397000e+03, 6.409000e+03, 2.000000e+02,\n",
       "       1.860000e+03, 3.620000e+02, 3.468000e+03, 9.500000e+02,\n",
       "       5.850000e+02, 1.876000e+03, 5.465000e+03, 1.030000e+03,\n",
       "       2.561300e+04, 2.449500e+04, 6.775330e+05, 1.269000e+03,\n",
       "       1.465000e+03, 1.502000e+03, 6.828000e+03, 2.190000e+02,\n",
       "       3.037000e+03, 3.097000e+03, 3.167000e+03, 4.180000e+02,\n",
       "       8.726000e+03, 2.414000e+03, 1.336000e+03, 9.661000e+03,\n",
       "       1.667000e+03, 9.970000e+02, 7.530000e+02, 1.078000e+03,\n",
       "       6.990000e+02, 3.280000e+02, 5.634000e+03, 2.189000e+03,\n",
       "       1.051600e+04, 1.388300e+04, 1.150000e+03, 5.179000e+03,\n",
       "       1.815500e+04, 7.235000e+03, 5.520000e+02, 2.120000e+03,\n",
       "       2.501000e+03, 7.485000e+03, 1.806000e+03, 2.555000e+03,\n",
       "       7.150000e+02, 3.215000e+03, 5.297840e+05, 3.173000e+03,\n",
       "       1.018000e+03, 1.611200e+04, 1.080000e+03, 3.230000e+02,\n",
       "       6.324000e+03, 1.176000e+03, 1.410000e+03, 4.329400e+04,\n",
       "       3.333700e+04, 3.628000e+03, 2.490000e+02, 2.556000e+03,\n",
       "       1.184000e+03, 5.876000e+03, 1.464100e+04, 7.025000e+03,\n",
       "       1.264000e+03, 2.860000e+02, 1.150000e+02, 5.790000e+02,\n",
       "       2.032000e+03, 3.555000e+03, 1.580000e+03, 1.389000e+03,\n",
       "       2.254000e+03, 3.331000e+03, 3.800000e+02, 5.847000e+03,\n",
       "       7.746300e+04, 1.174000e+03, 6.040000e+02, 5.766000e+03,\n",
       "       2.159000e+03, 1.421000e+03, 8.510000e+02, 1.359000e+03,\n",
       "       1.139000e+03, 7.048000e+03, 1.625000e+03, 4.080000e+02,\n",
       "       1.174000e+03, 5.320000e+02, 2.688000e+03, 2.872000e+03,\n",
       "       5.539000e+03, 2.154200e+04, 3.626000e+03, 5.210000e+02,\n",
       "       2.233000e+03, 6.350000e+02, 8.730000e+02, 6.850000e+02,\n",
       "       3.806000e+03, 2.661000e+03, 1.143000e+03, 1.926000e+03,\n",
       "       2.560000e+02, 1.225000e+03, 4.530000e+02, 4.370000e+02,\n",
       "       2.102700e+04, 1.462000e+03, 1.710100e+04, 2.387000e+03,\n",
       "       3.219000e+03, 3.816000e+03, 2.748000e+03, 3.537000e+03,\n",
       "       1.890000e+02, 1.637000e+03, 9.080000e+02, 4.208000e+03,\n",
       "       6.010000e+02, 3.653560e+05, 5.557500e+04, 2.379000e+03,\n",
       "       1.530000e+03, 8.070000e+02, 5.170000e+02, 2.201000e+03,\n",
       "       1.346000e+03, 2.301000e+03, 1.276000e+03, 1.207000e+03,\n",
       "       1.518000e+03, 1.423000e+03, 2.214000e+03, 1.826100e+04,\n",
       "       3.150000e+02, 1.532000e+03, 5.903000e+03, 2.168000e+03,\n",
       "       4.210000e+02, 6.924000e+03, 1.880000e+02, 6.418000e+03,\n",
       "       2.312000e+03])"
      ]
     },
     "execution_count": 28,
     "metadata": {},
     "output_type": "execute_result"
    }
   ],
   "source": [
    "y_test"
   ]
  },
  {
   "cell_type": "code",
   "execution_count": 46,
   "id": "58907e7e",
   "metadata": {},
   "outputs": [
    {
     "data": {
      "text/plain": [
       "array([ 5272., 19663.,  1328., ...,  1069.,   719.,   576.])"
      ]
     },
     "execution_count": 46,
     "metadata": {},
     "output_type": "execute_result"
    }
   ],
   "source": [
    "y"
   ]
  },
  {
   "cell_type": "code",
   "execution_count": null,
   "id": "5b0a52b5",
   "metadata": {},
   "outputs": [],
   "source": []
  },
  {
   "cell_type": "code",
   "execution_count": null,
   "id": "5a1df8a8",
   "metadata": {},
   "outputs": [],
   "source": [
    "# Fitting Random Forest Regression to the dataset\n",
    "regressor = RandomForestRegressor(n_estimators = 10, random_state = 0)\n",
    "regressor.fit(X.reshape(-1,1), y.reshape(-1, 1))"
   ]
  },
  {
   "cell_type": "code",
   "execution_count": 31,
   "id": "26bf3ced",
   "metadata": {},
   "outputs": [
    {
     "name": "stdout",
     "output_type": "stream",
     "text": [
      "27715.381792891516\n"
     ]
    },
    {
     "name": "stderr",
     "output_type": "stream",
     "text": [
      "C:\\Users\\stace\\anaconda3\\envs\\PythonData\\lib\\site-packages\\sklearn\\linear_model\\_ridge.py:148: LinAlgWarning: Ill-conditioned matrix (rcond=1.39875e-17): result may not be accurate.\n",
      "  overwrite_a=True).T\n"
     ]
    }
   ],
   "source": [
    "ridge = Ridge()\n",
    "ridge.fit(X_train, y_train)\n",
    "y_pred_ridge = ridge.predict(X_test)\n",
    "mse = mean_squared_error(y_test, y_pred_ridge)\n",
    "rmse = np.sqrt(mse)\n",
    "print(rmse)"
   ]
  },
  {
   "cell_type": "code",
   "execution_count": 18,
   "id": "b6962811",
   "metadata": {},
   "outputs": [
    {
     "name": "stdout",
     "output_type": "stream",
     "text": [
      "747319750.4261811\n"
     ]
    },
    {
     "name": "stderr",
     "output_type": "stream",
     "text": [
      "C:\\Users\\stace\\anaconda3\\envs\\PythonData\\lib\\site-packages\\sklearn\\linear_model\\_coordinate_descent.py:532: ConvergenceWarning: Objective did not converge. You might want to increase the number of iterations. Duality gap: 220573500267.0246, tolerance: 875221503.1124347\n",
      "  positive)\n"
     ]
    }
   ],
   "source": [
    "lasso = Lasso()\n",
    "lasso.fit(X_train, y_train)\n",
    "y_pred_lasso = lasso.predict(X_test)\n",
    "mse = mean_squared_error(y_test, y_pred_lasso)\n",
    "print(mse)"
   ]
  },
  {
   "cell_type": "code",
   "execution_count": null,
   "id": "7a16691a",
   "metadata": {},
   "outputs": [],
   "source": []
  }
 ],
 "metadata": {
  "kernelspec": {
   "display_name": "mlenv",
   "language": "python",
   "name": "mlenv"
  },
  "language_info": {
   "codemirror_mode": {
    "name": "ipython",
    "version": 3
   },
   "file_extension": ".py",
   "mimetype": "text/x-python",
   "name": "python",
   "nbconvert_exporter": "python",
   "pygments_lexer": "ipython3",
   "version": "3.7.10"
  }
 },
 "nbformat": 4,
 "nbformat_minor": 5
}
