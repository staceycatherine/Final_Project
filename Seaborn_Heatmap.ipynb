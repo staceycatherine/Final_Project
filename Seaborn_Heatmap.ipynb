{
 "cells": [
  {
   "cell_type": "code",
   "execution_count": null,
   "id": "085fdf4b",
   "metadata": {},
   "outputs": [],
   "source": [
    "#Import dependencies\n",
    "import pandas as pd\n",
    "import numpy as np\n",
    "import seaborn as sns\n",
    "import matplotlib.pyplot as plt"
   ]
  },
  {
   "cell_type": "code",
   "execution_count": null,
   "id": "2538eb43",
   "metadata": {},
   "outputs": [],
   "source": [
    "# Check correlation using heatmap after data has been scaled\n",
    "# load dataset\n",
    "sns.set()\n",
    "combined_df = sns.load_dataset(\"  \")\n",
    "combined_df = combined_df.pivot(\"column1\", \"column2\", \"column3\")\n",
    "ax = sns.heatmap(combined_df)\n",
    "plt.title(\"Heatmap Combined Data\")\n",
    "plt.show()"
   ]
  },
  {
   "cell_type": "code",
   "execution_count": null,
   "id": "0bda2b4c",
   "metadata": {},
   "outputs": [],
   "source": [
    "# OR this\n",
    "#load dataset\n",
    "combined_df = sns.load_dataset(\" \")\n",
    "# plot the heatmapp for correlation\n",
    "ax = sns.heatmap(combined_df.corr(), annot=True)"
   ]
  },
  {
   "cell_type": "code",
   "execution_count": null,
   "id": "7cba6cc6",
   "metadata": {},
   "outputs": [],
   "source": []
  }
 ],
 "metadata": {
  "kernelspec": {
   "display_name": "PythonData",
   "language": "python",
   "name": "pythondata"
  },
  "language_info": {
   "codemirror_mode": {
    "name": "ipython",
    "version": 3
   },
   "file_extension": ".py",
   "mimetype": "text/x-python",
   "name": "python",
   "nbconvert_exporter": "python",
   "pygments_lexer": "ipython3",
   "version": "3.7.11"
  }
 },
 "nbformat": 4,
 "nbformat_minor": 5
}
